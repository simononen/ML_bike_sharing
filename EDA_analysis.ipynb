{
 "cells": [
  {
   "cell_type": "markdown",
   "id": "153b55a4",
   "metadata": {},
   "source": [
    "# ML Title: Predicting Bicycle Imbalances in a bike-sharing System\n",
    "\n",
    "This notebook covers the exploration of the data identified and collected to be used to model a predictive model that can predict imbalances in a bike sharing system.\n",
    "\n",
    "The analysis shows investigations and plots conducted with intuition and includes the following\n",
    "\n",
    "1. Heat maps\n",
    "2. Correlation Matrices\n",
    "3. Boxplots\n",
    "4. Feature Independence Plots\n",
    "5. Outlier Plots\n",
    "6. Illustration of Patterns of Interest\n",
    "7. Illustration of Trends in Time and Space\n",
    "\n",
    "#### Our Approach\n",
    "> Approach will use a minimun of 10 ML models\n",
    "1. Problem Identification\n",
    "2. Avaibale Data\n",
    "3. How Evaluation is done\n",
    "4. The features avalibale\n",
    "5. Modelling\n",
    "6. Experimenting\n",
    "\n",
    "#### 1. Problem Identified\n",
    "> From the identified features in the dataset, can we predict whether or not there will be an imbalance in any given bike docking station or not?\n",
    "\n",
    "#### 2. Data\n",
    "\n",
    "The original data was initially from [Blue Bikes](https://www.bluebikes.com/system-data) system data. Another version is also available on [Kaggle](https://www.kaggle.com/datasets/jackdaoud/bluebikes-in-boston?resource=download).\n",
    "\n",
    "#### 3. Evaluation\n",
    "> For this model to be considered accurate a score of 97% will be considered.\n",
    "\n",
    "\n",
    "#### 4. Features\n",
    "> Details about each feature in the dataset\n",
    "\n",
    "**Data Features/Columns**\n",
    "   - ```tripduration```: duration of trip in seconds\n",
    "   - ```starttime```: start time and date of trip\n",
    "   - ```stoptime```: stop time and date of trip\n",
    "   - ```start station id```: unique ID of station the trip started at\n",
    "   - ```start station name```: name of station the trip started at\n",
    "   - ```start station latitude```: latitude of start station of trip\n",
    "   - ```start station longitude```: longitude of start station of trip\n",
    "   - ```end station id```: unique ID of station the trip started at\n",
    "   - ```end station name```: name of station the trip ended at\n",
    "   - ```end station latitude```: latitude of end station of trip\n",
    "   - ```end station longitude```: longitude of end station of trip\n",
    "   - ```bikeid```: unique ID of bike used for trip\n",
    "   - ```usertype```: type of user can be Customer or Subscriber\n",
    "   - ```postalcode```: postal code of user\n",
    "   - ```year```: year of when the trip took place\n",
    "   - ```month```: month of when the trip took place\n",
    "   - ```birth year```: birth year of user\n",
    "   - ```gender```: gender of user"
   ]
  },
  {
   "cell_type": "markdown",
   "id": "56413258",
   "metadata": {},
   "source": [
    "### EDA-TOOLS"
   ]
  },
  {
   "cell_type": "markdown",
   "id": "7004e127",
   "metadata": {},
   "source": [
    "#### The Tools to be used\n",
    "> importing the necessary libraries - pandas, numpy, matplotlib, sikit-learn models for training and evaluation"
   ]
  },
  {
   "cell_type": "code",
   "execution_count": 13,
   "id": "246e7b34",
   "metadata": {},
   "outputs": [],
   "source": [
    "# imports\n",
    "import matplotlib.pyplot as plt \n",
    "import pandas as pd\n",
    "import numpy as np\n",
    "import seaborn as sms\n",
    "\n",
    "%matplotlib inline\n",
    "\n",
    "# Models from Scikit-Learn\n",
    "from sklearn.linear_model import LogisticRegression\n",
    "from sklearn.neighbors import KNeighborsClassifier\n",
    "from sklearn.ensemble import RandomForestClassifier\n",
    "\n",
    "#Model Evaluations\n",
    "from sklearn.model_selection import train_test_split, cross_val_score\n",
    "from sklearn.model_selection import RandomizedSearchCV, GridSearchCV\n",
    "from sklearn.metrics import confusion_matrix, classification_report\n",
    "from sklearn.metrics import precision_score, recall_score, f1_score\n",
    "from sklearn.metrics import plot_roc_curve\n",
    "\n",
    "# Set the seaborn style formating\n",
    "plt.style.use('seaborn-colorblind')"
   ]
  },
  {
   "cell_type": "markdown",
   "id": "91c4c287",
   "metadata": {},
   "source": [
    "#### Load the datasets and merge"
   ]
  },
  {
   "cell_type": "code",
   "execution_count": 15,
   "id": "8b6a7932",
   "metadata": {},
   "outputs": [
    {
     "name": "stderr",
     "output_type": "stream",
     "text": [
      "/var/folders/jx/4wj38svs3nb6_35h0g9039mm0000gn/T/ipykernel_1154/910052091.py:2: DtypeWarning: Columns (13) have mixed types. Specify dtype option on import or set low_memory=False.\n",
      "  bike_df2 = pd.read_csv('datasets/bluebikes_tripdata_2020.csv')\n"
     ]
    }
   ],
   "source": [
    "bike_df1 = pd.read_csv('datasets/bluebikes_tripdata_2019.csv')\n",
    "bike_df2 = pd.read_csv('datasets/bluebikes_tripdata_2020.csv')"
   ]
  },
  {
   "cell_type": "markdown",
   "id": "693e9df5",
   "metadata": {},
   "source": [
    " Create a copy of each dataset"
   ]
  },
  {
   "cell_type": "code",
   "execution_count": 16,
   "id": "85054989",
   "metadata": {},
   "outputs": [],
   "source": [
    "bike_df1 = bike_df1.copy()\n",
    "bike_df2 = bike_df2.copy()"
   ]
  },
  {
   "cell_type": "markdown",
   "id": "ea001afc",
   "metadata": {},
   "source": [
    "Count the Number of rows"
   ]
  },
  {
   "cell_type": "code",
   "execution_count": 17,
   "id": "f27dcd43",
   "metadata": {},
   "outputs": [
    {
     "data": {
      "text/plain": [
       "(2522771, 17)"
      ]
     },
     "execution_count": 17,
     "metadata": {},
     "output_type": "execute_result"
    }
   ],
   "source": [
    "bike_df1.shape"
   ]
  },
  {
   "cell_type": "code",
   "execution_count": 18,
   "id": "8767d004",
   "metadata": {},
   "outputs": [
    {
     "data": {
      "text/plain": [
       "(1999446, 18)"
      ]
     },
     "execution_count": 18,
     "metadata": {},
     "output_type": "execute_result"
    }
   ],
   "source": [
    "bike_df2.shape"
   ]
  },
  {
   "cell_type": "markdown",
   "id": "8ade482b",
   "metadata": {},
   "source": [
    "Check the column features on each dataset before merge"
   ]
  },
  {
   "cell_type": "code",
   "execution_count": 19,
   "id": "4ba29c24",
   "metadata": {},
   "outputs": [
    {
     "data": {
      "text/plain": [
       "Index(['tripduration', 'starttime', 'stoptime', 'start station id',\n",
       "       'start station name', 'start station latitude',\n",
       "       'start station longitude', 'end station id', 'end station name',\n",
       "       'end station latitude', 'end station longitude', 'bikeid', 'usertype',\n",
       "       'birth year', 'gender', 'year', 'month'],\n",
       "      dtype='object')"
      ]
     },
     "execution_count": 19,
     "metadata": {},
     "output_type": "execute_result"
    }
   ],
   "source": [
    "bike_df1.columns"
   ]
  },
  {
   "cell_type": "code",
   "execution_count": 20,
   "id": "00f1ec33",
   "metadata": {},
   "outputs": [
    {
     "data": {
      "text/plain": [
       "Index(['tripduration', 'starttime', 'stoptime', 'start station id',\n",
       "       'start station name', 'start station latitude',\n",
       "       'start station longitude', 'end station id', 'end station name',\n",
       "       'end station latitude', 'end station longitude', 'bikeid', 'usertype',\n",
       "       'postal code', 'year', 'month', 'birth year', 'gender'],\n",
       "      dtype='object')"
      ]
     },
     "execution_count": 20,
     "metadata": {},
     "output_type": "execute_result"
    }
   ],
   "source": [
    "bike_df2.columns"
   ]
  },
  {
   "cell_type": "markdown",
   "id": "c68f20b3",
   "metadata": {},
   "source": [
    "Drop the column that does not exist on both datasets"
   ]
  },
  {
   "cell_type": "code",
   "execution_count": null,
   "id": "13b5362b",
   "metadata": {},
   "outputs": [],
   "source": []
  },
  {
   "cell_type": "markdown",
   "id": "66d97a6e",
   "metadata": {},
   "source": [
    "Merge the dataset into one"
   ]
  },
  {
   "cell_type": "code",
   "execution_count": null,
   "id": "30911a73",
   "metadata": {},
   "outputs": [],
   "source": []
  },
  {
   "cell_type": "markdown",
   "id": "34f0c1d6",
   "metadata": {},
   "source": [
    "### Data Cleaning"
   ]
  },
  {
   "cell_type": "code",
   "execution_count": null,
   "id": "064920fc",
   "metadata": {},
   "outputs": [],
   "source": []
  },
  {
   "cell_type": "code",
   "execution_count": null,
   "id": "79d1432a",
   "metadata": {},
   "outputs": [],
   "source": []
  },
  {
   "cell_type": "code",
   "execution_count": null,
   "id": "51b5fbf2",
   "metadata": {},
   "outputs": [],
   "source": []
  },
  {
   "cell_type": "code",
   "execution_count": null,
   "id": "2b6984b2",
   "metadata": {},
   "outputs": [],
   "source": []
  },
  {
   "cell_type": "markdown",
   "id": "9dd8b383",
   "metadata": {},
   "source": [
    "### EDA-Exploratory Data Analysis\n",
    "\n",
    "> Investigating more details about the data and relation to the subject problem to be solved"
   ]
  },
  {
   "cell_type": "code",
   "execution_count": null,
   "id": "2321e7d7",
   "metadata": {},
   "outputs": [],
   "source": []
  }
 ],
 "metadata": {
  "kernelspec": {
   "display_name": "Python 3 (ipykernel)",
   "language": "python",
   "name": "python3"
  },
  "language_info": {
   "codemirror_mode": {
    "name": "ipython",
    "version": 3
   },
   "file_extension": ".py",
   "mimetype": "text/x-python",
   "name": "python",
   "nbconvert_exporter": "python",
   "pygments_lexer": "ipython3",
   "version": "3.9.12"
  }
 },
 "nbformat": 4,
 "nbformat_minor": 5
}
