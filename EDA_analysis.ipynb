{
 "cells": [
  {
   "cell_type": "markdown",
   "id": "7a99fad1",
   "metadata": {},
   "source": [
    "# ML Title: Predicting Bicycle Imbalances in a bike-sharing System\n",
    "\n",
    "This notebook covers the exploration of the data identified and collected to be used to model a predictive model that can predict imbalances in a bike sharing system.\n",
    "\n",
    "The analysis shows investigations and plots conducted with intuition and includes the following\n",
    "\n",
    "1. Heat maps\n",
    "2. Correlation Matrices\n",
    "3. Boxplots\n",
    "4. Feature Independence Plots\n",
    "5. Outlier Plots\n",
    "6. Illustration of Patterns of Interest\n",
    "7. Illustration of Trends in Time and Space\n",
    "\n",
    "#### GROUP MEMBERS\n",
    "1. SIMON ONEN - 2022/HD05/1443U\n",
    "2. SAMUEL MUGABI - 2022/HD05/1452U\n",
    "\n",
    "#### Our Approach\n",
    "> Approach will use a minimun of 10 ML models\n",
    "1. Problem Identification\n",
    "2. Avaibale Data\n",
    "3. How Evaluation is done\n",
    "4. The features avalibale\n",
    "5. Modelling\n",
    "6. Experimenting\n",
    "\n",
    "#### 1. Problem Identified\n",
    "> From the identified features in the dataset, can we predict whether or not there will be an imbalance in any given bike docking station or not through the number of bike distribution at each station?\n",
    "\n",
    "#### 2. Data\n",
    "\n",
    "The original data was initially from [Blue Bikes](https://www.bluebikes.com/system-data) system data. Another version is also available on [Kaggle](https://www.kaggle.com/datasets/jackdaoud/bluebikes-in-boston?resource=download).\n",
    "\n",
    "#### 3. Evaluation\n",
    "> For this model to be considered accurate a score of 97% will be considered.\n",
    "\n",
    "\n",
    "#### 4. Features\n",
    "> Details about each feature in the dataset\n",
    "\n",
    "**Data Features/Columns**\n",
    "   - ```tripduration```: duration of trip in seconds\n",
    "   - ```starttime```: start time and date of trip\n",
    "   - ```stoptime```: stop time and date of trip\n",
    "   - ```start station id```: unique ID of station the trip started at\n",
    "   - ```start station name```: name of station the trip started at\n",
    "   - ```start station latitude```: latitude of start station of trip\n",
    "   - ```start station longitude```: longitude of start station of trip\n",
    "   - ```end station id```: unique ID of station the trip started at\n",
    "   - ```end station name```: name of station the trip ended at\n",
    "   - ```end station latitude```: latitude of end station of trip\n",
    "   - ```end station longitude```: longitude of end station of trip\n",
    "   - ```bikeid```: unique ID of bike used for trip\n",
    "   - ```usertype```: type of user can be Customer or Subscriber\n",
    "   - ```birth year```: birth year of user\n",
    "   - ```gender```: gender of user"
   ]
  },
  {
   "cell_type": "markdown",
   "id": "ab2a661a",
   "metadata": {},
   "source": [
    "### EDA-TOOLS"
   ]
  },
  {
   "cell_type": "markdown",
   "id": "de1e9574",
   "metadata": {},
   "source": [
    "#### The Tools to be used\n",
    "> importing the necessary libraries - pandas, numpy, matplotlib, sikit-learn models for training and evaluation"
   ]
  },
  {
   "cell_type": "code",
   "execution_count": 1,
   "id": "200be42a",
   "metadata": {},
   "outputs": [],
   "source": [
    "# imports\n",
    "import matplotlib.pyplot as plt \n",
    "import pandas as pd\n",
    "import numpy as np\n",
    "import seaborn as sns\n",
    "\n",
    "%matplotlib inline\n",
    "\n",
    "# set up pandas to display all rows and columns\n",
    "pd.set_option('display.max_rows', 5000000)\n",
    "pd.set_option('display.max_columns', 20)\n",
    "\n",
    "# Set the seaborn style formating\n",
    "sns.color_palette(\"tab10\")\n",
    "plt.style.use('seaborn-colorblind')"
   ]
  },
  {
   "cell_type": "markdown",
   "id": "54bf4b7b",
   "metadata": {},
   "source": [
    "### EDA-Data Processing"
   ]
  },
  {
   "cell_type": "markdown",
   "id": "8627d05c",
   "metadata": {},
   "source": [
    "#### Load the datasets and merge"
   ]
  },
  {
   "cell_type": "markdown",
   "id": "aec26ad5",
   "metadata": {},
   "source": [
    "###### import the datasets"
   ]
  },
  {
   "cell_type": "code",
   "execution_count": 2,
   "id": "01c224d1",
   "metadata": {},
   "outputs": [],
   "source": [
    "df_1 = pd.read_csv('datasets/2019/201901-bluebikes-tripdata.csv')\n",
    "df_2 = pd.read_csv('datasets/2019/201902-bluebikes-tripdata.csv')\n",
    "df_3 = pd.read_csv('datasets/2019/201903-bluebikes-tripdata.csv')\n",
    "df_4 = pd.read_csv('datasets/2019/201904-bluebikes-tripdata.csv')\n",
    "df_5 = pd.read_csv('datasets/2019/201905-bluebikes-tripdata.csv')\n",
    "df_6 = pd.read_csv('datasets/2019/201906-bluebikes-tripdata.csv')\n",
    "df_7 = pd.read_csv('datasets/2019/201907-bluebikes-tripdata.csv')\n",
    "df_8 = pd.read_csv('datasets/2019/201908-bluebikes-tripdata.csv')\n",
    "df_9 = pd.read_csv('datasets/2019/201909-bluebikes-tripdata.csv')\n",
    "df_10 = pd.read_csv('datasets/2019/201910-bluebikes-tripdata.csv')\n",
    "df_11 = pd.read_csv('datasets/2019/201911-bluebikes-tripdata.csv')\n",
    "df_12 = pd.read_csv('datasets/2019/201912-bluebikes-tripdata.csv')"
   ]
  },
  {
   "cell_type": "markdown",
   "id": "af5c2dee",
   "metadata": {},
   "source": [
    "##### Merge the datasets"
   ]
  },
  {
   "cell_type": "code",
   "execution_count": 3,
   "id": "179c0bab",
   "metadata": {},
   "outputs": [
    {
     "data": {
      "text/plain": [
       "(2522771, 15)"
      ]
     },
     "execution_count": 3,
     "metadata": {},
     "output_type": "execute_result"
    }
   ],
   "source": [
    "bike_data = pd.concat([df_1, df_2, df_3, df_4, df_5, df_6, df_7, df_8, df_9, df_10, df_11, df_12])\n",
    "bike_data.shape"
   ]
  },
  {
   "cell_type": "markdown",
   "id": "4e16f5e9",
   "metadata": {},
   "source": [
    "##### Preview"
   ]
  },
  {
   "cell_type": "code",
   "execution_count": 4,
   "id": "84135de5",
   "metadata": {},
   "outputs": [
    {
     "data": {
      "text/html": [
       "<div>\n",
       "<style scoped>\n",
       "    .dataframe tbody tr th:only-of-type {\n",
       "        vertical-align: middle;\n",
       "    }\n",
       "\n",
       "    .dataframe tbody tr th {\n",
       "        vertical-align: top;\n",
       "    }\n",
       "\n",
       "    .dataframe thead th {\n",
       "        text-align: right;\n",
       "    }\n",
       "</style>\n",
       "<table border=\"1\" class=\"dataframe\">\n",
       "  <thead>\n",
       "    <tr style=\"text-align: right;\">\n",
       "      <th></th>\n",
       "      <th>tripduration</th>\n",
       "      <th>starttime</th>\n",
       "      <th>stoptime</th>\n",
       "      <th>start station id</th>\n",
       "      <th>start station name</th>\n",
       "      <th>start station latitude</th>\n",
       "      <th>start station longitude</th>\n",
       "      <th>end station id</th>\n",
       "      <th>end station name</th>\n",
       "      <th>end station latitude</th>\n",
       "      <th>end station longitude</th>\n",
       "      <th>bikeid</th>\n",
       "      <th>usertype</th>\n",
       "      <th>birth year</th>\n",
       "      <th>gender</th>\n",
       "    </tr>\n",
       "  </thead>\n",
       "  <tbody>\n",
       "    <tr>\n",
       "      <th>0</th>\n",
       "      <td>371</td>\n",
       "      <td>2019-01-01 00:09:13.7980</td>\n",
       "      <td>2019-01-01 00:15:25.3360</td>\n",
       "      <td>80</td>\n",
       "      <td>MIT Stata Center at Vassar St / Main St</td>\n",
       "      <td>42.362131</td>\n",
       "      <td>-71.091156</td>\n",
       "      <td>179</td>\n",
       "      <td>MIT Vassar St</td>\n",
       "      <td>42.355601</td>\n",
       "      <td>-71.103945</td>\n",
       "      <td>3689</td>\n",
       "      <td>Subscriber</td>\n",
       "      <td>1987</td>\n",
       "      <td>1</td>\n",
       "    </tr>\n",
       "    <tr>\n",
       "      <th>1</th>\n",
       "      <td>264</td>\n",
       "      <td>2019-01-01 00:33:56.1820</td>\n",
       "      <td>2019-01-01 00:38:20.8800</td>\n",
       "      <td>117</td>\n",
       "      <td>Binney St / Sixth St</td>\n",
       "      <td>42.366162</td>\n",
       "      <td>-71.086883</td>\n",
       "      <td>189</td>\n",
       "      <td>Kendall T</td>\n",
       "      <td>42.362428</td>\n",
       "      <td>-71.084955</td>\n",
       "      <td>4142</td>\n",
       "      <td>Subscriber</td>\n",
       "      <td>1990</td>\n",
       "      <td>1</td>\n",
       "    </tr>\n",
       "    <tr>\n",
       "      <th>2</th>\n",
       "      <td>458</td>\n",
       "      <td>2019-01-01 00:41:54.6000</td>\n",
       "      <td>2019-01-01 00:49:33.2730</td>\n",
       "      <td>68</td>\n",
       "      <td>Central Square at Mass Ave / Essex St</td>\n",
       "      <td>42.365070</td>\n",
       "      <td>-71.103100</td>\n",
       "      <td>96</td>\n",
       "      <td>Cambridge Main Library at Broadway / Trowbridg...</td>\n",
       "      <td>42.373379</td>\n",
       "      <td>-71.111075</td>\n",
       "      <td>1628</td>\n",
       "      <td>Subscriber</td>\n",
       "      <td>1977</td>\n",
       "      <td>1</td>\n",
       "    </tr>\n",
       "    <tr>\n",
       "      <th>3</th>\n",
       "      <td>364</td>\n",
       "      <td>2019-01-01 00:43:32.5710</td>\n",
       "      <td>2019-01-01 00:49:37.4260</td>\n",
       "      <td>89</td>\n",
       "      <td>Harvard Law School at Mass Ave / Jarvis St</td>\n",
       "      <td>42.379011</td>\n",
       "      <td>-71.119945</td>\n",
       "      <td>334</td>\n",
       "      <td>Mass Ave at Hadley/Walden</td>\n",
       "      <td>42.391210</td>\n",
       "      <td>-71.122608</td>\n",
       "      <td>2969</td>\n",
       "      <td>Subscriber</td>\n",
       "      <td>1993</td>\n",
       "      <td>1</td>\n",
       "    </tr>\n",
       "    <tr>\n",
       "      <th>4</th>\n",
       "      <td>681</td>\n",
       "      <td>2019-01-01 00:49:56.4640</td>\n",
       "      <td>2019-01-01 01:01:17.7010</td>\n",
       "      <td>73</td>\n",
       "      <td>Harvard Square at Brattle St / Eliot St</td>\n",
       "      <td>42.373231</td>\n",
       "      <td>-71.120886</td>\n",
       "      <td>367</td>\n",
       "      <td>Vassal Lane at Tobin/VLUS</td>\n",
       "      <td>42.383932</td>\n",
       "      <td>-71.139613</td>\n",
       "      <td>3469</td>\n",
       "      <td>Subscriber</td>\n",
       "      <td>1979</td>\n",
       "      <td>2</td>\n",
       "    </tr>\n",
       "  </tbody>\n",
       "</table>\n",
       "</div>"
      ],
      "text/plain": [
       "   tripduration                 starttime                  stoptime  \\\n",
       "0           371  2019-01-01 00:09:13.7980  2019-01-01 00:15:25.3360   \n",
       "1           264  2019-01-01 00:33:56.1820  2019-01-01 00:38:20.8800   \n",
       "2           458  2019-01-01 00:41:54.6000  2019-01-01 00:49:33.2730   \n",
       "3           364  2019-01-01 00:43:32.5710  2019-01-01 00:49:37.4260   \n",
       "4           681  2019-01-01 00:49:56.4640  2019-01-01 01:01:17.7010   \n",
       "\n",
       "   start station id                          start station name  \\\n",
       "0                80     MIT Stata Center at Vassar St / Main St   \n",
       "1               117                        Binney St / Sixth St   \n",
       "2                68       Central Square at Mass Ave / Essex St   \n",
       "3                89  Harvard Law School at Mass Ave / Jarvis St   \n",
       "4                73     Harvard Square at Brattle St / Eliot St   \n",
       "\n",
       "   start station latitude  start station longitude  end station id  \\\n",
       "0               42.362131               -71.091156             179   \n",
       "1               42.366162               -71.086883             189   \n",
       "2               42.365070               -71.103100              96   \n",
       "3               42.379011               -71.119945             334   \n",
       "4               42.373231               -71.120886             367   \n",
       "\n",
       "                                    end station name  end station latitude  \\\n",
       "0                                      MIT Vassar St             42.355601   \n",
       "1                                          Kendall T             42.362428   \n",
       "2  Cambridge Main Library at Broadway / Trowbridg...             42.373379   \n",
       "3                          Mass Ave at Hadley/Walden             42.391210   \n",
       "4                          Vassal Lane at Tobin/VLUS             42.383932   \n",
       "\n",
       "   end station longitude  bikeid    usertype  birth year  gender  \n",
       "0             -71.103945    3689  Subscriber        1987       1  \n",
       "1             -71.084955    4142  Subscriber        1990       1  \n",
       "2             -71.111075    1628  Subscriber        1977       1  \n",
       "3             -71.122608    2969  Subscriber        1993       1  \n",
       "4             -71.139613    3469  Subscriber        1979       2  "
      ]
     },
     "execution_count": 4,
     "metadata": {},
     "output_type": "execute_result"
    }
   ],
   "source": [
    "bike_data.head()"
   ]
  },
  {
   "cell_type": "code",
   "execution_count": 5,
   "id": "7dc359be",
   "metadata": {},
   "outputs": [
    {
     "data": {
      "text/html": [
       "<div>\n",
       "<style scoped>\n",
       "    .dataframe tbody tr th:only-of-type {\n",
       "        vertical-align: middle;\n",
       "    }\n",
       "\n",
       "    .dataframe tbody tr th {\n",
       "        vertical-align: top;\n",
       "    }\n",
       "\n",
       "    .dataframe thead th {\n",
       "        text-align: right;\n",
       "    }\n",
       "</style>\n",
       "<table border=\"1\" class=\"dataframe\">\n",
       "  <thead>\n",
       "    <tr style=\"text-align: right;\">\n",
       "      <th></th>\n",
       "      <th>tripduration</th>\n",
       "      <th>starttime</th>\n",
       "      <th>stoptime</th>\n",
       "      <th>start station id</th>\n",
       "      <th>start station name</th>\n",
       "      <th>start station latitude</th>\n",
       "      <th>start station longitude</th>\n",
       "      <th>end station id</th>\n",
       "      <th>end station name</th>\n",
       "      <th>end station latitude</th>\n",
       "      <th>end station longitude</th>\n",
       "      <th>bikeid</th>\n",
       "      <th>usertype</th>\n",
       "      <th>birth year</th>\n",
       "      <th>gender</th>\n",
       "    </tr>\n",
       "  </thead>\n",
       "  <tbody>\n",
       "    <tr>\n",
       "      <th>0</th>\n",
       "      <td>371</td>\n",
       "      <td>2019-01-01 00:09:13.7980</td>\n",
       "      <td>2019-01-01 00:15:25.3360</td>\n",
       "      <td>80</td>\n",
       "      <td>MIT Stata Center at Vassar St / Main St</td>\n",
       "      <td>42.362131</td>\n",
       "      <td>-71.091156</td>\n",
       "      <td>179</td>\n",
       "      <td>MIT Vassar St</td>\n",
       "      <td>42.355601</td>\n",
       "      <td>-71.103945</td>\n",
       "      <td>3689</td>\n",
       "      <td>Subscriber</td>\n",
       "      <td>1987</td>\n",
       "      <td>1</td>\n",
       "    </tr>\n",
       "    <tr>\n",
       "      <th>1</th>\n",
       "      <td>264</td>\n",
       "      <td>2019-01-01 00:33:56.1820</td>\n",
       "      <td>2019-01-01 00:38:20.8800</td>\n",
       "      <td>117</td>\n",
       "      <td>Binney St / Sixth St</td>\n",
       "      <td>42.366162</td>\n",
       "      <td>-71.086883</td>\n",
       "      <td>189</td>\n",
       "      <td>Kendall T</td>\n",
       "      <td>42.362428</td>\n",
       "      <td>-71.084955</td>\n",
       "      <td>4142</td>\n",
       "      <td>Subscriber</td>\n",
       "      <td>1990</td>\n",
       "      <td>1</td>\n",
       "    </tr>\n",
       "    <tr>\n",
       "      <th>2</th>\n",
       "      <td>458</td>\n",
       "      <td>2019-01-01 00:41:54.6000</td>\n",
       "      <td>2019-01-01 00:49:33.2730</td>\n",
       "      <td>68</td>\n",
       "      <td>Central Square at Mass Ave / Essex St</td>\n",
       "      <td>42.365070</td>\n",
       "      <td>-71.103100</td>\n",
       "      <td>96</td>\n",
       "      <td>Cambridge Main Library at Broadway / Trowbridg...</td>\n",
       "      <td>42.373379</td>\n",
       "      <td>-71.111075</td>\n",
       "      <td>1628</td>\n",
       "      <td>Subscriber</td>\n",
       "      <td>1977</td>\n",
       "      <td>1</td>\n",
       "    </tr>\n",
       "    <tr>\n",
       "      <th>3</th>\n",
       "      <td>364</td>\n",
       "      <td>2019-01-01 00:43:32.5710</td>\n",
       "      <td>2019-01-01 00:49:37.4260</td>\n",
       "      <td>89</td>\n",
       "      <td>Harvard Law School at Mass Ave / Jarvis St</td>\n",
       "      <td>42.379011</td>\n",
       "      <td>-71.119945</td>\n",
       "      <td>334</td>\n",
       "      <td>Mass Ave at Hadley/Walden</td>\n",
       "      <td>42.391210</td>\n",
       "      <td>-71.122608</td>\n",
       "      <td>2969</td>\n",
       "      <td>Subscriber</td>\n",
       "      <td>1993</td>\n",
       "      <td>1</td>\n",
       "    </tr>\n",
       "    <tr>\n",
       "      <th>4</th>\n",
       "      <td>681</td>\n",
       "      <td>2019-01-01 00:49:56.4640</td>\n",
       "      <td>2019-01-01 01:01:17.7010</td>\n",
       "      <td>73</td>\n",
       "      <td>Harvard Square at Brattle St / Eliot St</td>\n",
       "      <td>42.373231</td>\n",
       "      <td>-71.120886</td>\n",
       "      <td>367</td>\n",
       "      <td>Vassal Lane at Tobin/VLUS</td>\n",
       "      <td>42.383932</td>\n",
       "      <td>-71.139613</td>\n",
       "      <td>3469</td>\n",
       "      <td>Subscriber</td>\n",
       "      <td>1979</td>\n",
       "      <td>2</td>\n",
       "    </tr>\n",
       "  </tbody>\n",
       "</table>\n",
       "</div>"
      ],
      "text/plain": [
       "   tripduration                 starttime                  stoptime  \\\n",
       "0           371  2019-01-01 00:09:13.7980  2019-01-01 00:15:25.3360   \n",
       "1           264  2019-01-01 00:33:56.1820  2019-01-01 00:38:20.8800   \n",
       "2           458  2019-01-01 00:41:54.6000  2019-01-01 00:49:33.2730   \n",
       "3           364  2019-01-01 00:43:32.5710  2019-01-01 00:49:37.4260   \n",
       "4           681  2019-01-01 00:49:56.4640  2019-01-01 01:01:17.7010   \n",
       "\n",
       "   start station id                          start station name  \\\n",
       "0                80     MIT Stata Center at Vassar St / Main St   \n",
       "1               117                        Binney St / Sixth St   \n",
       "2                68       Central Square at Mass Ave / Essex St   \n",
       "3                89  Harvard Law School at Mass Ave / Jarvis St   \n",
       "4                73     Harvard Square at Brattle St / Eliot St   \n",
       "\n",
       "   start station latitude  start station longitude  end station id  \\\n",
       "0               42.362131               -71.091156             179   \n",
       "1               42.366162               -71.086883             189   \n",
       "2               42.365070               -71.103100              96   \n",
       "3               42.379011               -71.119945             334   \n",
       "4               42.373231               -71.120886             367   \n",
       "\n",
       "                                    end station name  end station latitude  \\\n",
       "0                                      MIT Vassar St             42.355601   \n",
       "1                                          Kendall T             42.362428   \n",
       "2  Cambridge Main Library at Broadway / Trowbridg...             42.373379   \n",
       "3                          Mass Ave at Hadley/Walden             42.391210   \n",
       "4                          Vassal Lane at Tobin/VLUS             42.383932   \n",
       "\n",
       "   end station longitude  bikeid    usertype  birth year  gender  \n",
       "0             -71.103945    3689  Subscriber        1987       1  \n",
       "1             -71.084955    4142  Subscriber        1990       1  \n",
       "2             -71.111075    1628  Subscriber        1977       1  \n",
       "3             -71.122608    2969  Subscriber        1993       1  \n",
       "4             -71.139613    3469  Subscriber        1979       2  "
      ]
     },
     "execution_count": 5,
     "metadata": {},
     "output_type": "execute_result"
    }
   ],
   "source": [
    "bike_data.head()"
   ]
  },
  {
   "cell_type": "code",
   "execution_count": 6,
   "id": "edebc179",
   "metadata": {},
   "outputs": [
    {
     "name": "stdout",
     "output_type": "stream",
     "text": [
      "<class 'pandas.core.frame.DataFrame'>\n",
      "Int64Index: 2522771 entries, 0 to 92207\n",
      "Data columns (total 15 columns):\n",
      " #   Column                   Dtype  \n",
      "---  ------                   -----  \n",
      " 0   tripduration             int64  \n",
      " 1   starttime                object \n",
      " 2   stoptime                 object \n",
      " 3   start station id         int64  \n",
      " 4   start station name       object \n",
      " 5   start station latitude   float64\n",
      " 6   start station longitude  float64\n",
      " 7   end station id           int64  \n",
      " 8   end station name         object \n",
      " 9   end station latitude     float64\n",
      " 10  end station longitude    float64\n",
      " 11  bikeid                   int64  \n",
      " 12  usertype                 object \n",
      " 13  birth year               int64  \n",
      " 14  gender                   int64  \n",
      "dtypes: float64(4), int64(6), object(5)\n",
      "memory usage: 308.0+ MB\n"
     ]
    }
   ],
   "source": [
    "bike_data.info()"
   ]
  },
  {
   "cell_type": "markdown",
   "id": "c7e3a387",
   "metadata": {},
   "source": [
    "### EDA-Data Cleaning"
   ]
  },
  {
   "cell_type": "markdown",
   "id": "1fed96c6",
   "metadata": {},
   "source": [
    "#### Create a back-up of the original dataset "
   ]
  },
  {
   "cell_type": "code",
   "execution_count": 7,
   "id": "ef45c1c2",
   "metadata": {},
   "outputs": [],
   "source": [
    "bike_data.to_csv('bike_data_2019.csv', index=False)"
   ]
  },
  {
   "cell_type": "markdown",
   "id": "34607fc1",
   "metadata": {},
   "source": [
    "#### Categories"
   ]
  },
  {
   "cell_type": "code",
   "execution_count": 8,
   "id": "ce8ba830",
   "metadata": {},
   "outputs": [],
   "source": [
    "# change usertype to a categorical dtype from an object dtype\n",
    "\n",
    "bike_data['usertype']= bike_data.usertype.astype('category')"
   ]
  },
  {
   "cell_type": "code",
   "execution_count": 9,
   "id": "21217395",
   "metadata": {},
   "outputs": [],
   "source": [
    "# change the 'starttime' and 'ended_at' dtype to datetime\n",
    "\n",
    "bike_data['starttime']= pd.to_datetime(bike_data.starttime)\n",
    "bike_data['stoptime']= pd.to_datetime(bike_data.stoptime)"
   ]
  },
  {
   "cell_type": "markdown",
   "id": "3b0196de",
   "metadata": {},
   "source": [
    "#### Missing Values"
   ]
  },
  {
   "cell_type": "code",
   "execution_count": 10,
   "id": "7ec6c014",
   "metadata": {},
   "outputs": [
    {
     "data": {
      "text/html": [
       "<div>\n",
       "<style scoped>\n",
       "    .dataframe tbody tr th:only-of-type {\n",
       "        vertical-align: middle;\n",
       "    }\n",
       "\n",
       "    .dataframe tbody tr th {\n",
       "        vertical-align: top;\n",
       "    }\n",
       "\n",
       "    .dataframe thead th {\n",
       "        text-align: right;\n",
       "    }\n",
       "</style>\n",
       "<table border=\"1\" class=\"dataframe\">\n",
       "  <thead>\n",
       "    <tr style=\"text-align: right;\">\n",
       "      <th></th>\n",
       "      <th>features</th>\n",
       "      <th>0</th>\n",
       "    </tr>\n",
       "  </thead>\n",
       "  <tbody>\n",
       "    <tr>\n",
       "      <th>0</th>\n",
       "      <td>tripduration</td>\n",
       "      <td>0</td>\n",
       "    </tr>\n",
       "    <tr>\n",
       "      <th>1</th>\n",
       "      <td>starttime</td>\n",
       "      <td>0</td>\n",
       "    </tr>\n",
       "    <tr>\n",
       "      <th>2</th>\n",
       "      <td>stoptime</td>\n",
       "      <td>0</td>\n",
       "    </tr>\n",
       "    <tr>\n",
       "      <th>3</th>\n",
       "      <td>start station id</td>\n",
       "      <td>0</td>\n",
       "    </tr>\n",
       "    <tr>\n",
       "      <th>4</th>\n",
       "      <td>start station name</td>\n",
       "      <td>0</td>\n",
       "    </tr>\n",
       "    <tr>\n",
       "      <th>5</th>\n",
       "      <td>start station latitude</td>\n",
       "      <td>0</td>\n",
       "    </tr>\n",
       "    <tr>\n",
       "      <th>6</th>\n",
       "      <td>start station longitude</td>\n",
       "      <td>0</td>\n",
       "    </tr>\n",
       "    <tr>\n",
       "      <th>7</th>\n",
       "      <td>end station id</td>\n",
       "      <td>0</td>\n",
       "    </tr>\n",
       "    <tr>\n",
       "      <th>8</th>\n",
       "      <td>end station name</td>\n",
       "      <td>0</td>\n",
       "    </tr>\n",
       "    <tr>\n",
       "      <th>9</th>\n",
       "      <td>end station latitude</td>\n",
       "      <td>0</td>\n",
       "    </tr>\n",
       "    <tr>\n",
       "      <th>10</th>\n",
       "      <td>end station longitude</td>\n",
       "      <td>0</td>\n",
       "    </tr>\n",
       "    <tr>\n",
       "      <th>11</th>\n",
       "      <td>bikeid</td>\n",
       "      <td>0</td>\n",
       "    </tr>\n",
       "    <tr>\n",
       "      <th>12</th>\n",
       "      <td>usertype</td>\n",
       "      <td>0</td>\n",
       "    </tr>\n",
       "    <tr>\n",
       "      <th>13</th>\n",
       "      <td>birth year</td>\n",
       "      <td>0</td>\n",
       "    </tr>\n",
       "    <tr>\n",
       "      <th>14</th>\n",
       "      <td>gender</td>\n",
       "      <td>0</td>\n",
       "    </tr>\n",
       "  </tbody>\n",
       "</table>\n",
       "</div>"
      ],
      "text/plain": [
       "                   features  0\n",
       "0              tripduration  0\n",
       "1                 starttime  0\n",
       "2                  stoptime  0\n",
       "3          start station id  0\n",
       "4        start station name  0\n",
       "5    start station latitude  0\n",
       "6   start station longitude  0\n",
       "7            end station id  0\n",
       "8          end station name  0\n",
       "9      end station latitude  0\n",
       "10    end station longitude  0\n",
       "11                   bikeid  0\n",
       "12                 usertype  0\n",
       "13               birth year  0\n",
       "14                   gender  0"
      ]
     },
     "execution_count": 10,
     "metadata": {},
     "output_type": "execute_result"
    }
   ],
   "source": [
    "# find missing values\n",
    "\n",
    "df_null = bike_data.isnull().sum().rename_axis('features').reset_index()\n",
    "df_null"
   ]
  },
  {
   "cell_type": "code",
   "execution_count": 11,
   "id": "7a934452",
   "metadata": {},
   "outputs": [
    {
     "name": "stdout",
     "output_type": "stream",
     "text": [
      "<class 'pandas.core.frame.DataFrame'>\n",
      "Int64Index: 2522771 entries, 0 to 92207\n",
      "Data columns (total 15 columns):\n",
      " #   Column                   Dtype         \n",
      "---  ------                   -----         \n",
      " 0   tripduration             int64         \n",
      " 1   starttime                datetime64[ns]\n",
      " 2   stoptime                 datetime64[ns]\n",
      " 3   start station id         int64         \n",
      " 4   start station name       object        \n",
      " 5   start station latitude   float64       \n",
      " 6   start station longitude  float64       \n",
      " 7   end station id           int64         \n",
      " 8   end station name         object        \n",
      " 9   end station latitude     float64       \n",
      " 10  end station longitude    float64       \n",
      " 11  bikeid                   int64         \n",
      " 12  usertype                 category      \n",
      " 13  birth year               int64         \n",
      " 14  gender                   int64         \n",
      "dtypes: category(1), datetime64[ns](2), float64(4), int64(6), object(2)\n",
      "memory usage: 291.1+ MB\n"
     ]
    }
   ],
   "source": [
    "bike_data.info()"
   ]
  },
  {
   "cell_type": "markdown",
   "id": "a97dd5cc",
   "metadata": {},
   "source": [
    "#### Duplicates"
   ]
  },
  {
   "cell_type": "code",
   "execution_count": 12,
   "id": "fef8228e",
   "metadata": {},
   "outputs": [
    {
     "data": {
      "text/plain": [
       "False"
      ]
     },
     "execution_count": 12,
     "metadata": {},
     "output_type": "execute_result"
    }
   ],
   "source": [
    "# checking for any duplicated values\n",
    "\n",
    "bike_data.duplicated().any()"
   ]
  },
  {
   "cell_type": "markdown",
   "id": "df073e68",
   "metadata": {},
   "source": [
    "#### Renaming the Columns"
   ]
  },
  {
   "cell_type": "code",
   "execution_count": 13,
   "id": "7e79736f",
   "metadata": {},
   "outputs": [
    {
     "data": {
      "text/plain": [
       "['tripduration',\n",
       " 'starttime',\n",
       " 'stoptime',\n",
       " 'start station id',\n",
       " 'start station name',\n",
       " 'start station latitude',\n",
       " 'start station longitude',\n",
       " 'end station id',\n",
       " 'end station name',\n",
       " 'end station latitude',\n",
       " 'end station longitude',\n",
       " 'bikeid',\n",
       " 'usertype',\n",
       " 'birth year',\n",
       " 'gender']"
      ]
     },
     "execution_count": 13,
     "metadata": {},
     "output_type": "execute_result"
    }
   ],
   "source": [
    "# Display the Columns as a list\n",
    "\n",
    "list(bike_data.columns)"
   ]
  },
  {
   "cell_type": "markdown",
   "id": "01cd06e0",
   "metadata": {},
   "source": [
    "#### Rename and list the sample renamed dataset"
   ]
  },
  {
   "cell_type": "code",
   "execution_count": 14,
   "id": "9d23a079",
   "metadata": {},
   "outputs": [],
   "source": [
    "bike_data = bike_data.rename(columns={'tripduration': 'tripDuration',\n",
    "                   'starttime': \"startTime\",\n",
    "                   'stoptime': 'stopTime',\n",
    "                   'start station id': 'startStationId',\n",
    "                   'start station name': 'startStationName',\n",
    "                   'start station latitude': 'startStationLatitude',\n",
    "                   'start station longitude': 'startStationLongitude',\n",
    "                   'end station id': 'endStationId',\n",
    "                   'end station name': 'endStationName',\n",
    "                   'end station latitude': 'endStationlatitude',\n",
    "                   'end station longitude': 'endStationLongitude',\n",
    "                   'bikeid': 'bikeId',\n",
    "                   'usertype': 'userType',\n",
    "                   'birth year': 'birthYear',\n",
    "                   'gender': 'gender'\n",
    "                  })"
   ]
  },
  {
   "cell_type": "code",
   "execution_count": 15,
   "id": "97878817",
   "metadata": {},
   "outputs": [
    {
     "data": {
      "text/plain": [
       "['tripDuration',\n",
       " 'startTime',\n",
       " 'stopTime',\n",
       " 'startStationId',\n",
       " 'startStationName',\n",
       " 'startStationLatitude',\n",
       " 'startStationLongitude',\n",
       " 'endStationId',\n",
       " 'endStationName',\n",
       " 'endStationlatitude',\n",
       " 'endStationLongitude',\n",
       " 'bikeId',\n",
       " 'userType',\n",
       " 'birthYear',\n",
       " 'gender']"
      ]
     },
     "execution_count": 15,
     "metadata": {},
     "output_type": "execute_result"
    }
   ],
   "source": [
    "list(bike_data.columns)"
   ]
  },
  {
   "cell_type": "code",
   "execution_count": 16,
   "id": "2d6e5d49",
   "metadata": {},
   "outputs": [
    {
     "data": {
      "text/html": [
       "<div>\n",
       "<style scoped>\n",
       "    .dataframe tbody tr th:only-of-type {\n",
       "        vertical-align: middle;\n",
       "    }\n",
       "\n",
       "    .dataframe tbody tr th {\n",
       "        vertical-align: top;\n",
       "    }\n",
       "\n",
       "    .dataframe thead th {\n",
       "        text-align: right;\n",
       "    }\n",
       "</style>\n",
       "<table border=\"1\" class=\"dataframe\">\n",
       "  <thead>\n",
       "    <tr style=\"text-align: right;\">\n",
       "      <th></th>\n",
       "      <th>tripDuration</th>\n",
       "      <th>startTime</th>\n",
       "      <th>stopTime</th>\n",
       "      <th>startStationId</th>\n",
       "      <th>startStationName</th>\n",
       "      <th>startStationLatitude</th>\n",
       "      <th>startStationLongitude</th>\n",
       "      <th>endStationId</th>\n",
       "      <th>endStationName</th>\n",
       "      <th>endStationlatitude</th>\n",
       "      <th>endStationLongitude</th>\n",
       "      <th>bikeId</th>\n",
       "      <th>userType</th>\n",
       "      <th>birthYear</th>\n",
       "      <th>gender</th>\n",
       "    </tr>\n",
       "  </thead>\n",
       "  <tbody>\n",
       "    <tr>\n",
       "      <th>0</th>\n",
       "      <td>371</td>\n",
       "      <td>2019-01-01 00:09:13.798</td>\n",
       "      <td>2019-01-01 00:15:25.336</td>\n",
       "      <td>80</td>\n",
       "      <td>MIT Stata Center at Vassar St / Main St</td>\n",
       "      <td>42.362131</td>\n",
       "      <td>-71.091156</td>\n",
       "      <td>179</td>\n",
       "      <td>MIT Vassar St</td>\n",
       "      <td>42.355601</td>\n",
       "      <td>-71.103945</td>\n",
       "      <td>3689</td>\n",
       "      <td>Subscriber</td>\n",
       "      <td>1987</td>\n",
       "      <td>1</td>\n",
       "    </tr>\n",
       "    <tr>\n",
       "      <th>1</th>\n",
       "      <td>264</td>\n",
       "      <td>2019-01-01 00:33:56.182</td>\n",
       "      <td>2019-01-01 00:38:20.880</td>\n",
       "      <td>117</td>\n",
       "      <td>Binney St / Sixth St</td>\n",
       "      <td>42.366162</td>\n",
       "      <td>-71.086883</td>\n",
       "      <td>189</td>\n",
       "      <td>Kendall T</td>\n",
       "      <td>42.362428</td>\n",
       "      <td>-71.084955</td>\n",
       "      <td>4142</td>\n",
       "      <td>Subscriber</td>\n",
       "      <td>1990</td>\n",
       "      <td>1</td>\n",
       "    </tr>\n",
       "    <tr>\n",
       "      <th>2</th>\n",
       "      <td>458</td>\n",
       "      <td>2019-01-01 00:41:54.600</td>\n",
       "      <td>2019-01-01 00:49:33.273</td>\n",
       "      <td>68</td>\n",
       "      <td>Central Square at Mass Ave / Essex St</td>\n",
       "      <td>42.365070</td>\n",
       "      <td>-71.103100</td>\n",
       "      <td>96</td>\n",
       "      <td>Cambridge Main Library at Broadway / Trowbridg...</td>\n",
       "      <td>42.373379</td>\n",
       "      <td>-71.111075</td>\n",
       "      <td>1628</td>\n",
       "      <td>Subscriber</td>\n",
       "      <td>1977</td>\n",
       "      <td>1</td>\n",
       "    </tr>\n",
       "    <tr>\n",
       "      <th>3</th>\n",
       "      <td>364</td>\n",
       "      <td>2019-01-01 00:43:32.571</td>\n",
       "      <td>2019-01-01 00:49:37.426</td>\n",
       "      <td>89</td>\n",
       "      <td>Harvard Law School at Mass Ave / Jarvis St</td>\n",
       "      <td>42.379011</td>\n",
       "      <td>-71.119945</td>\n",
       "      <td>334</td>\n",
       "      <td>Mass Ave at Hadley/Walden</td>\n",
       "      <td>42.391210</td>\n",
       "      <td>-71.122608</td>\n",
       "      <td>2969</td>\n",
       "      <td>Subscriber</td>\n",
       "      <td>1993</td>\n",
       "      <td>1</td>\n",
       "    </tr>\n",
       "    <tr>\n",
       "      <th>4</th>\n",
       "      <td>681</td>\n",
       "      <td>2019-01-01 00:49:56.464</td>\n",
       "      <td>2019-01-01 01:01:17.701</td>\n",
       "      <td>73</td>\n",
       "      <td>Harvard Square at Brattle St / Eliot St</td>\n",
       "      <td>42.373231</td>\n",
       "      <td>-71.120886</td>\n",
       "      <td>367</td>\n",
       "      <td>Vassal Lane at Tobin/VLUS</td>\n",
       "      <td>42.383932</td>\n",
       "      <td>-71.139613</td>\n",
       "      <td>3469</td>\n",
       "      <td>Subscriber</td>\n",
       "      <td>1979</td>\n",
       "      <td>2</td>\n",
       "    </tr>\n",
       "  </tbody>\n",
       "</table>\n",
       "</div>"
      ],
      "text/plain": [
       "   tripDuration               startTime                stopTime  \\\n",
       "0           371 2019-01-01 00:09:13.798 2019-01-01 00:15:25.336   \n",
       "1           264 2019-01-01 00:33:56.182 2019-01-01 00:38:20.880   \n",
       "2           458 2019-01-01 00:41:54.600 2019-01-01 00:49:33.273   \n",
       "3           364 2019-01-01 00:43:32.571 2019-01-01 00:49:37.426   \n",
       "4           681 2019-01-01 00:49:56.464 2019-01-01 01:01:17.701   \n",
       "\n",
       "   startStationId                            startStationName  \\\n",
       "0              80     MIT Stata Center at Vassar St / Main St   \n",
       "1             117                        Binney St / Sixth St   \n",
       "2              68       Central Square at Mass Ave / Essex St   \n",
       "3              89  Harvard Law School at Mass Ave / Jarvis St   \n",
       "4              73     Harvard Square at Brattle St / Eliot St   \n",
       "\n",
       "   startStationLatitude  startStationLongitude  endStationId  \\\n",
       "0             42.362131             -71.091156           179   \n",
       "1             42.366162             -71.086883           189   \n",
       "2             42.365070             -71.103100            96   \n",
       "3             42.379011             -71.119945           334   \n",
       "4             42.373231             -71.120886           367   \n",
       "\n",
       "                                      endStationName  endStationlatitude  \\\n",
       "0                                      MIT Vassar St           42.355601   \n",
       "1                                          Kendall T           42.362428   \n",
       "2  Cambridge Main Library at Broadway / Trowbridg...           42.373379   \n",
       "3                          Mass Ave at Hadley/Walden           42.391210   \n",
       "4                          Vassal Lane at Tobin/VLUS           42.383932   \n",
       "\n",
       "   endStationLongitude  bikeId    userType  birthYear  gender  \n",
       "0           -71.103945    3689  Subscriber       1987       1  \n",
       "1           -71.084955    4142  Subscriber       1990       1  \n",
       "2           -71.111075    1628  Subscriber       1977       1  \n",
       "3           -71.122608    2969  Subscriber       1993       1  \n",
       "4           -71.139613    3469  Subscriber       1979       2  "
      ]
     },
     "execution_count": 16,
     "metadata": {},
     "output_type": "execute_result"
    }
   ],
   "source": [
    "bike_data.head()"
   ]
  },
  {
   "cell_type": "code",
   "execution_count": 17,
   "id": "984c1a3b",
   "metadata": {},
   "outputs": [
    {
     "data": {
      "text/plain": [
       "0    2019-01-01\n",
       "1    2019-01-01\n",
       "2    2019-01-01\n",
       "Name: startDate, dtype: object"
      ]
     },
     "execution_count": 17,
     "metadata": {},
     "output_type": "execute_result"
    }
   ],
   "source": [
    "# split the date from the 'startedtime' column\n",
    "\n",
    "bike_data['startDate'] = bike_data.startTime.dt.date\n",
    "bike_data.startDate.head(3)"
   ]
  },
  {
   "cell_type": "code",
   "execution_count": 18,
   "id": "350ff3bb",
   "metadata": {},
   "outputs": [
    {
     "data": {
      "text/plain": [
       "tripDuration                      int64\n",
       "startTime                datetime64[ns]\n",
       "stopTime                 datetime64[ns]\n",
       "startStationId                    int64\n",
       "startStationName                 object\n",
       "startStationLatitude            float64\n",
       "startStationLongitude           float64\n",
       "endStationId                      int64\n",
       "endStationName                   object\n",
       "endStationlatitude              float64\n",
       "endStationLongitude             float64\n",
       "bikeId                            int64\n",
       "userType                       category\n",
       "birthYear                         int64\n",
       "gender                            int64\n",
       "startDate                datetime64[ns]\n",
       "dtype: object"
      ]
     },
     "execution_count": 18,
     "metadata": {},
     "output_type": "execute_result"
    }
   ],
   "source": [
    "# converting 'dayOfWeek' into a datetime dtype\n",
    "\n",
    "bike_data['startDate']= pd.to_datetime(bike_data.startDate)\n",
    "bike_data.dtypes"
   ]
  },
  {
   "cell_type": "code",
   "execution_count": 19,
   "id": "ba597099",
   "metadata": {},
   "outputs": [
    {
     "data": {
      "text/plain": [
       "array(['Tuesday', 'Wednesday', 'Thursday', 'Friday', 'Saturday', 'Sunday',\n",
       "       'Monday'], dtype=object)"
      ]
     },
     "execution_count": 19,
     "metadata": {},
     "output_type": "execute_result"
    }
   ],
   "source": [
    "# find the weekday of the date\n",
    "\n",
    "bike_data['dayName'] = bike_data['startDate'].dt.day_name()\n",
    "bike_data['dayName'].unique()"
   ]
  },
  {
   "cell_type": "code",
   "execution_count": 20,
   "id": "31928807",
   "metadata": {},
   "outputs": [
    {
     "name": "stdout",
     "output_type": "stream",
     "text": [
      "<class 'pandas.core.frame.DataFrame'>\n",
      "Int64Index: 2522771 entries, 0 to 92207\n",
      "Data columns (total 17 columns):\n",
      " #   Column                 Dtype         \n",
      "---  ------                 -----         \n",
      " 0   tripDuration           int64         \n",
      " 1   startTime              datetime64[ns]\n",
      " 2   stopTime               datetime64[ns]\n",
      " 3   startStationId         int64         \n",
      " 4   startStationName       object        \n",
      " 5   startStationLatitude   float64       \n",
      " 6   startStationLongitude  float64       \n",
      " 7   endStationId           int64         \n",
      " 8   endStationName         object        \n",
      " 9   endStationlatitude     float64       \n",
      " 10  endStationLongitude    float64       \n",
      " 11  bikeId                 int64         \n",
      " 12  userType               category      \n",
      " 13  birthYear              int64         \n",
      " 14  gender                 int64         \n",
      " 15  startDate              datetime64[ns]\n",
      " 16  dayName                category      \n",
      "dtypes: category(2), datetime64[ns](3), float64(4), int64(6), object(2)\n",
      "memory usage: 312.8+ MB\n"
     ]
    }
   ],
   "source": [
    "# changing day_name to  categorical dtype\n",
    "\n",
    "bike_data['dayName']= bike_data.dayName.astype('category')\n",
    "bike_data.info()"
   ]
  },
  {
   "cell_type": "code",
   "execution_count": 21,
   "id": "edf121f7",
   "metadata": {},
   "outputs": [
    {
     "name": "stdout",
     "output_type": "stream",
     "text": [
      "<class 'pandas.core.frame.DataFrame'>\n",
      "Int64Index: 2522771 entries, 0 to 92207\n",
      "Data columns (total 19 columns):\n",
      " #   Column                 Dtype         \n",
      "---  ------                 -----         \n",
      " 0   tripDuration           int64         \n",
      " 1   startTime              datetime64[ns]\n",
      " 2   stopTime               datetime64[ns]\n",
      " 3   startStationId         int64         \n",
      " 4   startStationName       object        \n",
      " 5   startStationLatitude   float64       \n",
      " 6   startStationLongitude  float64       \n",
      " 7   endStationId           int64         \n",
      " 8   endStationName         object        \n",
      " 9   endStationlatitude     float64       \n",
      " 10  endStationLongitude    float64       \n",
      " 11  bikeId                 int64         \n",
      " 12  userType               category      \n",
      " 13  birthYear              int64         \n",
      " 14  gender                 int64         \n",
      " 15  startDate              datetime64[ns]\n",
      " 16  dayName                category      \n",
      " 17  year                   int64         \n",
      " 18  month                  int64         \n",
      "dtypes: category(2), datetime64[ns](3), float64(4), int64(8), object(2)\n",
      "memory usage: 351.3+ MB\n"
     ]
    }
   ],
   "source": [
    "bike_data['year'] = pd.DatetimeIndex(bike_data['startDate']).year\n",
    "bike_data['month'] = pd.DatetimeIndex(bike_data['startDate']).month\n",
    "\n",
    "bike_data.info()"
   ]
  },
  {
   "cell_type": "code",
   "execution_count": 22,
   "id": "8ee39414",
   "metadata": {},
   "outputs": [
    {
     "data": {
      "text/html": [
       "<div>\n",
       "<style scoped>\n",
       "    .dataframe tbody tr th:only-of-type {\n",
       "        vertical-align: middle;\n",
       "    }\n",
       "\n",
       "    .dataframe tbody tr th {\n",
       "        vertical-align: top;\n",
       "    }\n",
       "\n",
       "    .dataframe thead th {\n",
       "        text-align: right;\n",
       "    }\n",
       "</style>\n",
       "<table border=\"1\" class=\"dataframe\">\n",
       "  <thead>\n",
       "    <tr style=\"text-align: right;\">\n",
       "      <th></th>\n",
       "      <th>tripDuration</th>\n",
       "      <th>startTime</th>\n",
       "      <th>stopTime</th>\n",
       "      <th>startStationId</th>\n",
       "      <th>startStationName</th>\n",
       "      <th>startStationLatitude</th>\n",
       "      <th>startStationLongitude</th>\n",
       "      <th>endStationId</th>\n",
       "      <th>endStationName</th>\n",
       "      <th>endStationlatitude</th>\n",
       "      <th>endStationLongitude</th>\n",
       "      <th>bikeId</th>\n",
       "      <th>userType</th>\n",
       "      <th>birthYear</th>\n",
       "      <th>gender</th>\n",
       "      <th>startDate</th>\n",
       "      <th>dayName</th>\n",
       "      <th>year</th>\n",
       "      <th>month</th>\n",
       "    </tr>\n",
       "  </thead>\n",
       "  <tbody>\n",
       "    <tr>\n",
       "      <th>0</th>\n",
       "      <td>371</td>\n",
       "      <td>2019-01-01 00:09:13.798</td>\n",
       "      <td>2019-01-01 00:15:25.336</td>\n",
       "      <td>80</td>\n",
       "      <td>MIT Stata Center at Vassar St / Main St</td>\n",
       "      <td>42.362131</td>\n",
       "      <td>-71.091156</td>\n",
       "      <td>179</td>\n",
       "      <td>MIT Vassar St</td>\n",
       "      <td>42.355601</td>\n",
       "      <td>-71.103945</td>\n",
       "      <td>3689</td>\n",
       "      <td>Subscriber</td>\n",
       "      <td>1987</td>\n",
       "      <td>1</td>\n",
       "      <td>2019-01-01</td>\n",
       "      <td>Tuesday</td>\n",
       "      <td>2019</td>\n",
       "      <td>1</td>\n",
       "    </tr>\n",
       "    <tr>\n",
       "      <th>1</th>\n",
       "      <td>264</td>\n",
       "      <td>2019-01-01 00:33:56.182</td>\n",
       "      <td>2019-01-01 00:38:20.880</td>\n",
       "      <td>117</td>\n",
       "      <td>Binney St / Sixth St</td>\n",
       "      <td>42.366162</td>\n",
       "      <td>-71.086883</td>\n",
       "      <td>189</td>\n",
       "      <td>Kendall T</td>\n",
       "      <td>42.362428</td>\n",
       "      <td>-71.084955</td>\n",
       "      <td>4142</td>\n",
       "      <td>Subscriber</td>\n",
       "      <td>1990</td>\n",
       "      <td>1</td>\n",
       "      <td>2019-01-01</td>\n",
       "      <td>Tuesday</td>\n",
       "      <td>2019</td>\n",
       "      <td>1</td>\n",
       "    </tr>\n",
       "    <tr>\n",
       "      <th>2</th>\n",
       "      <td>458</td>\n",
       "      <td>2019-01-01 00:41:54.600</td>\n",
       "      <td>2019-01-01 00:49:33.273</td>\n",
       "      <td>68</td>\n",
       "      <td>Central Square at Mass Ave / Essex St</td>\n",
       "      <td>42.365070</td>\n",
       "      <td>-71.103100</td>\n",
       "      <td>96</td>\n",
       "      <td>Cambridge Main Library at Broadway / Trowbridg...</td>\n",
       "      <td>42.373379</td>\n",
       "      <td>-71.111075</td>\n",
       "      <td>1628</td>\n",
       "      <td>Subscriber</td>\n",
       "      <td>1977</td>\n",
       "      <td>1</td>\n",
       "      <td>2019-01-01</td>\n",
       "      <td>Tuesday</td>\n",
       "      <td>2019</td>\n",
       "      <td>1</td>\n",
       "    </tr>\n",
       "    <tr>\n",
       "      <th>3</th>\n",
       "      <td>364</td>\n",
       "      <td>2019-01-01 00:43:32.571</td>\n",
       "      <td>2019-01-01 00:49:37.426</td>\n",
       "      <td>89</td>\n",
       "      <td>Harvard Law School at Mass Ave / Jarvis St</td>\n",
       "      <td>42.379011</td>\n",
       "      <td>-71.119945</td>\n",
       "      <td>334</td>\n",
       "      <td>Mass Ave at Hadley/Walden</td>\n",
       "      <td>42.391210</td>\n",
       "      <td>-71.122608</td>\n",
       "      <td>2969</td>\n",
       "      <td>Subscriber</td>\n",
       "      <td>1993</td>\n",
       "      <td>1</td>\n",
       "      <td>2019-01-01</td>\n",
       "      <td>Tuesday</td>\n",
       "      <td>2019</td>\n",
       "      <td>1</td>\n",
       "    </tr>\n",
       "    <tr>\n",
       "      <th>4</th>\n",
       "      <td>681</td>\n",
       "      <td>2019-01-01 00:49:56.464</td>\n",
       "      <td>2019-01-01 01:01:17.701</td>\n",
       "      <td>73</td>\n",
       "      <td>Harvard Square at Brattle St / Eliot St</td>\n",
       "      <td>42.373231</td>\n",
       "      <td>-71.120886</td>\n",
       "      <td>367</td>\n",
       "      <td>Vassal Lane at Tobin/VLUS</td>\n",
       "      <td>42.383932</td>\n",
       "      <td>-71.139613</td>\n",
       "      <td>3469</td>\n",
       "      <td>Subscriber</td>\n",
       "      <td>1979</td>\n",
       "      <td>2</td>\n",
       "      <td>2019-01-01</td>\n",
       "      <td>Tuesday</td>\n",
       "      <td>2019</td>\n",
       "      <td>1</td>\n",
       "    </tr>\n",
       "  </tbody>\n",
       "</table>\n",
       "</div>"
      ],
      "text/plain": [
       "   tripDuration               startTime                stopTime  \\\n",
       "0           371 2019-01-01 00:09:13.798 2019-01-01 00:15:25.336   \n",
       "1           264 2019-01-01 00:33:56.182 2019-01-01 00:38:20.880   \n",
       "2           458 2019-01-01 00:41:54.600 2019-01-01 00:49:33.273   \n",
       "3           364 2019-01-01 00:43:32.571 2019-01-01 00:49:37.426   \n",
       "4           681 2019-01-01 00:49:56.464 2019-01-01 01:01:17.701   \n",
       "\n",
       "   startStationId                            startStationName  \\\n",
       "0              80     MIT Stata Center at Vassar St / Main St   \n",
       "1             117                        Binney St / Sixth St   \n",
       "2              68       Central Square at Mass Ave / Essex St   \n",
       "3              89  Harvard Law School at Mass Ave / Jarvis St   \n",
       "4              73     Harvard Square at Brattle St / Eliot St   \n",
       "\n",
       "   startStationLatitude  startStationLongitude  endStationId  \\\n",
       "0             42.362131             -71.091156           179   \n",
       "1             42.366162             -71.086883           189   \n",
       "2             42.365070             -71.103100            96   \n",
       "3             42.379011             -71.119945           334   \n",
       "4             42.373231             -71.120886           367   \n",
       "\n",
       "                                      endStationName  endStationlatitude  \\\n",
       "0                                      MIT Vassar St           42.355601   \n",
       "1                                          Kendall T           42.362428   \n",
       "2  Cambridge Main Library at Broadway / Trowbridg...           42.373379   \n",
       "3                          Mass Ave at Hadley/Walden           42.391210   \n",
       "4                          Vassal Lane at Tobin/VLUS           42.383932   \n",
       "\n",
       "   endStationLongitude  bikeId    userType  birthYear  gender  startDate  \\\n",
       "0           -71.103945    3689  Subscriber       1987       1 2019-01-01   \n",
       "1           -71.084955    4142  Subscriber       1990       1 2019-01-01   \n",
       "2           -71.111075    1628  Subscriber       1977       1 2019-01-01   \n",
       "3           -71.122608    2969  Subscriber       1993       1 2019-01-01   \n",
       "4           -71.139613    3469  Subscriber       1979       2 2019-01-01   \n",
       "\n",
       "   dayName  year  month  \n",
       "0  Tuesday  2019      1  \n",
       "1  Tuesday  2019      1  \n",
       "2  Tuesday  2019      1  \n",
       "3  Tuesday  2019      1  \n",
       "4  Tuesday  2019      1  "
      ]
     },
     "execution_count": 22,
     "metadata": {},
     "output_type": "execute_result"
    }
   ],
   "source": [
    "bike_data.head()"
   ]
  },
  {
   "cell_type": "code",
   "execution_count": 23,
   "id": "4cfa54e1",
   "metadata": {},
   "outputs": [],
   "source": [
    "\n",
    "# sort the dataframe by ascending using start date\n",
    "\n",
    "bike_data.sort_values(by=['startTime'], inplace= True, ascending= True)\n"
   ]
  },
  {
   "cell_type": "code",
   "execution_count": 24,
   "id": "aeab7250",
   "metadata": {},
   "outputs": [
    {
     "data": {
      "text/plain": [
       "tripDuration             0\n",
       "startTime                0\n",
       "stopTime                 0\n",
       "startStationId           0\n",
       "startStationName         0\n",
       "startStationLatitude     0\n",
       "startStationLongitude    0\n",
       "endStationId             0\n",
       "endStationName           0\n",
       "endStationlatitude       0\n",
       "endStationLongitude      0\n",
       "bikeId                   0\n",
       "userType                 0\n",
       "birthYear                0\n",
       "gender                   0\n",
       "startDate                0\n",
       "dayName                  0\n",
       "year                     0\n",
       "month                    0\n",
       "dtype: int64"
      ]
     },
     "execution_count": 24,
     "metadata": {},
     "output_type": "execute_result"
    }
   ],
   "source": [
    "bike_data.isnull().sum()"
   ]
  },
  {
   "cell_type": "code",
   "execution_count": 25,
   "id": "e911c08a",
   "metadata": {},
   "outputs": [
    {
     "data": {
      "text/plain": [
       "(2522771, 19)"
      ]
     },
     "execution_count": 25,
     "metadata": {},
     "output_type": "execute_result"
    }
   ],
   "source": [
    "bike_data.shape"
   ]
  },
  {
   "cell_type": "markdown",
   "id": "2a88ac5a",
   "metadata": {},
   "source": [
    "#### save clean dataset"
   ]
  },
  {
   "cell_type": "code",
   "execution_count": 26,
   "id": "72916e3f",
   "metadata": {},
   "outputs": [],
   "source": [
    "bike_data.to_csv('bike_data_cleaned.csv')"
   ]
  },
  {
   "cell_type": "markdown",
   "id": "93b8924c",
   "metadata": {},
   "source": [
    "### EDA-Exploratory Data Analysis\n",
    "\n",
    "> Investigating more details about the data and relation to the subject problem to be solved"
   ]
  },
  {
   "cell_type": "code",
   "execution_count": 27,
   "id": "88a63462",
   "metadata": {},
   "outputs": [
    {
     "data": {
      "text/plain": [
       "count    2.522771e+06\n",
       "mean     2.178407e+03\n",
       "std      1.098031e+05\n",
       "min      6.100000e+01\n",
       "25%      4.180000e+02\n",
       "50%      7.070000e+02\n",
       "75%      1.185000e+03\n",
       "max      4.256714e+07\n",
       "Name: tripDuration, dtype: float64"
      ]
     },
     "execution_count": 27,
     "metadata": {},
     "output_type": "execute_result"
    }
   ],
   "source": [
    "# calculate the mean of trip duration of all types of users\n",
    "\n",
    "bike_data.tripDuration.describe(datetime_is_numeric=True)"
   ]
  },
  {
   "cell_type": "code",
   "execution_count": 28,
   "id": "168551a5",
   "metadata": {},
   "outputs": [
    {
     "data": {
      "text/plain": [
       "0    Wednesday\n",
       "Name: dayName, dtype: category\n",
       "Categories (7, object): ['Friday', 'Monday', 'Saturday', 'Sunday', 'Thursday', 'Tuesday', 'Wednesday']"
      ]
     },
     "execution_count": 28,
     "metadata": {},
     "output_type": "execute_result"
    }
   ],
   "source": [
    "# calculate the mode of week-day of all users\n",
    "\n",
    "mode_week_day = bike_data['dayName'].mode()\n",
    "mode_week_day"
   ]
  },
  {
   "cell_type": "code",
   "execution_count": 29,
   "id": "f4c434ef",
   "metadata": {},
   "outputs": [
    {
     "data": {
      "text/plain": [
       "0    Saturday\n",
       "Name: dayName, dtype: category\n",
       "Categories (7, object): ['Friday', 'Monday', 'Saturday', 'Sunday', 'Thursday', 'Tuesday', 'Wednesday']"
      ]
     },
     "execution_count": 29,
     "metadata": {},
     "output_type": "execute_result"
    }
   ],
   "source": [
    "# calculte the mode of weekDay of Customer\n",
    "\n",
    "mode_week_day_users = bike_data[bike_data['userType'] == 'Customer']\n",
    "mode_week_day_users = mode_week_day_users['dayName'].mode()\n",
    "mode_week_day_users"
   ]
  },
  {
   "cell_type": "code",
   "execution_count": 30,
   "id": "7b6866e5",
   "metadata": {},
   "outputs": [
    {
     "data": {
      "text/plain": [
       "0    Wednesday\n",
       "Name: dayName, dtype: category\n",
       "Categories (7, object): ['Friday', 'Monday', 'Saturday', 'Sunday', 'Thursday', 'Tuesday', 'Wednesday']"
      ]
     },
     "execution_count": 30,
     "metadata": {},
     "output_type": "execute_result"
    }
   ],
   "source": [
    "# calculte the mode of weekDay of Customer\n",
    "\n",
    "mode_week_day_member = bike_data[bike_data['userType'] == 'Subscriber']\n",
    "mode_week_day_member = mode_week_day_member['dayName'].mode()\n",
    "mode_week_day_member"
   ]
  },
  {
   "cell_type": "code",
   "execution_count": 31,
   "id": "95ddab42",
   "metadata": {},
   "outputs": [
    {
     "data": {
      "text/plain": [
       "dayName\n",
       "Friday       385502\n",
       "Monday       372415\n",
       "Saturday     319076\n",
       "Sunday       285237\n",
       "Thursday     386613\n",
       "Tuesday      384487\n",
       "Wednesday    389441\n",
       "Name: bikeId, dtype: int64"
      ]
     },
     "execution_count": 31,
     "metadata": {},
     "output_type": "execute_result"
    }
   ],
   "source": [
    "# calculate the no. of trips by users in a week by adding Count of bikeId to values\n",
    "\n",
    "count_users = bike_data.groupby('dayName')['bikeId'].count()\n",
    "count_users = count_users.sort_index()\n",
    "count_users"
   ]
  },
  {
   "cell_type": "code",
   "execution_count": 32,
   "id": "54eda7bc",
   "metadata": {},
   "outputs": [
    {
     "data": {
      "text/plain": [
       "dayName\n",
       "Friday        73057\n",
       "Monday        62287\n",
       "Saturday     121374\n",
       "Sunday       104973\n",
       "Thursday      62189\n",
       "Tuesday       54855\n",
       "Wednesday     55542\n",
       "Name: bikeId, dtype: int64"
      ]
     },
     "execution_count": 32,
     "metadata": {},
     "output_type": "execute_result"
    }
   ],
   "source": [
    "# calculate the No. of trips by users in a week\n",
    "\n",
    "count_customer_users = bike_data[bike_data['userType'] == 'Customer'].groupby('dayName')['bikeId'].count()\n",
    "count_customer_users"
   ]
  },
  {
   "cell_type": "code",
   "execution_count": 33,
   "id": "be90071c",
   "metadata": {},
   "outputs": [
    {
     "data": {
      "text/plain": [
       "dayName\n",
       "Friday       312445\n",
       "Monday       310128\n",
       "Saturday     197702\n",
       "Sunday       180264\n",
       "Thursday     324424\n",
       "Tuesday      329632\n",
       "Wednesday    333899\n",
       "Name: bikeId, dtype: int64"
      ]
     },
     "execution_count": 33,
     "metadata": {},
     "output_type": "execute_result"
    }
   ],
   "source": [
    "# calculate the No. of trips by users in a week\n",
    "\n",
    "count_subscriber_users = bike_data[bike_data['userType'] == 'Subscriber'].groupby('dayName')['bikeId'].count()\n",
    "count_subscriber_users"
   ]
  },
  {
   "cell_type": "markdown",
   "id": "9306a0ee",
   "metadata": {},
   "source": [
    "### EDA-Visualizations\n",
    "\n",
    "> Plotting and visualizing"
   ]
  },
  {
   "cell_type": "markdown",
   "id": "881cca63",
   "metadata": {},
   "source": [
    "##### Overal Corellation and Heatmap\n",
    "\n",
    "> The dataset has many columns, using the corellation matrix to identify the corelation between the columns"
   ]
  },
  {
   "cell_type": "code",
   "execution_count": 34,
   "id": "8630712d",
   "metadata": {},
   "outputs": [
    {
     "data": {
      "image/png": "[encoded data removed]",
      "text/plain": [
       "<Figure size 640x480 with 2 Axes>"
      ]
     },
     "metadata": {},
     "output_type": "display_data"
    }
   ],
   "source": [
    "corr_bike_df1 = bike_data.corr()\n",
    "ax = sns.heatmap(\n",
    "    corr_bike_df1, \n",
    "    vmin=-1, vmax=1, center=0,\n",
    "    cmap=sns.diverging_palette(10, 400, n=500),\n",
    "    square=True\n",
    ")\n",
    "ax.set_xticklabels(\n",
    "    ax.get_xticklabels(),\n",
    "    rotation=45,\n",
    "    horizontalalignment='right'\n",
    ");"
   ]
  },
  {
   "cell_type": "code",
   "execution_count": 35,
   "id": "bb60f45f",
   "metadata": {},
   "outputs": [
    {
     "data": {
      "image/png": "[encoded data removed]",
      "text/plain": [
       "<Figure size 480x480 with 1 Axes>"
      ]
     },
     "metadata": {},
     "output_type": "display_data"
    }
   ],
   "source": [
    "plt.matshow(bike_data.corr());"
   ]
  },
  {
   "cell_type": "markdown",
   "id": "36022b55",
   "metadata": {},
   "source": [
    "#### plot the graph for number of trips by customers and subscribers"
   ]
  },
  {
   "cell_type": "code",
   "execution_count": 36,
   "id": "40dc2144",
   "metadata": {},
   "outputs": [
    {
     "data": {
      "image/png": "[encoded data removed]",
      "text/plain": [
       "<Figure size 1000x800 with 1 Axes>"
      ]
     },
     "metadata": {},
     "output_type": "display_data"
    }
   ],
   "source": [
    "plt.figure(figsize = (10,8))\n",
    "plt.plot(count_customer_users.index, count_customer_users.values)\n",
    "plt.plot(count_subscriber_users.index, count_subscriber_users.values)\n",
    "plt.title('Calculate the number of trips by Customers and Subscribers')\n",
    "plt.legend(['Customers', 'Subscribers'])\n",
    "labels = ['Sunday', 'Monday', 'Tuesday', 'Wednesday', 'Thursday', 'Friday', 'Saturday']\n",
    "plt.xticks(count_users.index, labels)\n",
    "plt.show()"
   ]
  },
  {
   "cell_type": "code",
   "execution_count": 37,
   "id": "b4d4a851",
   "metadata": {},
   "outputs": [],
   "source": [
    "# convert the tripDuration data type\n",
    "\n",
    "bike_data['tripDuration'] = pd.to_timedelta(bike_data['tripDuration'] * 10**9)"
   ]
  },
  {
   "cell_type": "code",
   "execution_count": 38,
   "id": "98beb330",
   "metadata": {},
   "outputs": [
    {
     "name": "stdout",
     "output_type": "stream",
     "text": [
      "<class 'pandas.core.frame.DataFrame'>\n",
      "Int64Index: 2522771 entries, 0 to 92207\n",
      "Data columns (total 19 columns):\n",
      " #   Column                 Dtype          \n",
      "---  ------                 -----          \n",
      " 0   tripDuration           timedelta64[ns]\n",
      " 1   startTime              datetime64[ns] \n",
      " 2   stopTime               datetime64[ns] \n",
      " 3   startStationId         int64          \n",
      " 4   startStationName       object         \n",
      " 5   startStationLatitude   float64        \n",
      " 6   startStationLongitude  float64        \n",
      " 7   endStationId           int64          \n",
      " 8   endStationName         object         \n",
      " 9   endStationlatitude     float64        \n",
      " 10  endStationLongitude    float64        \n",
      " 11  bikeId                 int64          \n",
      " 12  userType               category       \n",
      " 13  birthYear              int64          \n",
      " 14  gender                 int64          \n",
      " 15  startDate              datetime64[ns] \n",
      " 16  dayName                category       \n",
      " 17  year                   int64          \n",
      " 18  month                  int64          \n",
      "dtypes: category(2), datetime64[ns](3), float64(4), int64(7), object(2), timedelta64[ns](1)\n",
      "memory usage: 351.3+ MB\n"
     ]
    }
   ],
   "source": [
    "bike_data.info()"
   ]
  },
  {
   "cell_type": "code",
   "execution_count": 39,
   "id": "39739bca",
   "metadata": {},
   "outputs": [
    {
     "data": {
      "text/plain": [
       "dayName\n",
       "Friday      0 days 00:35:50.365365160\n",
       "Monday      0 days 00:30:01.949561644\n",
       "Saturday    0 days 00:57:10.738137622\n",
       "Sunday      0 days 00:46:05.170921023\n",
       "Thursday    0 days 00:34:36.765799391\n",
       "Tuesday     0 days 00:29:02.036331527\n",
       "Wednesday   0 days 00:27:22.068513587\n",
       "Name: tripDuration, dtype: timedelta64[ns]"
      ]
     },
     "execution_count": 39,
     "metadata": {},
     "output_type": "execute_result"
    }
   ],
   "source": [
    "# calculate the average tripDuration for all users in a week\n",
    "\n",
    "user_avg_trip = bike_data.groupby('dayName')['tripDuration'].mean(numeric_only=False)\n",
    "user_avg_trip"
   ]
  },
  {
   "cell_type": "code",
   "execution_count": null,
   "id": "94cde017",
   "metadata": {},
   "outputs": [],
   "source": []
  },
  {
   "cell_type": "code",
   "execution_count": 40,
   "id": "d5bd204f",
   "metadata": {},
   "outputs": [
    {
     "data": {
      "text/plain": [
       "dayName\n",
       "Friday      0 days 01:50:22.756012428\n",
       "Monday      0 days 01:37:58.269365999\n",
       "Saturday    0 days 02:00:13.578262230\n",
       "Sunday      0 days 01:36:44.871128766\n",
       "Thursday    0 days 02:07:06.447008313\n",
       "Tuesday     0 days 01:54:17.414346914\n",
       "Wednesday   0 days 01:29:09.691458715\n",
       "Name: tripDuration, dtype: timedelta64[ns]"
      ]
     },
     "execution_count": 40,
     "metadata": {},
     "output_type": "execute_result"
    }
   ],
   "source": [
    "# calculate the average tripDuration for customers in a week\n",
    "\n",
    "user_avg_customer = bike_data[bike_data['userType'] == 'Customer'].groupby('dayName')['tripDuration'].mean(numeric_only=False)\n",
    "user_avg_customer"
   ]
  },
  {
   "cell_type": "code",
   "execution_count": 41,
   "id": "3cf5fd90",
   "metadata": {},
   "outputs": [
    {
     "data": {
      "text/plain": [
       "dayName\n",
       "Friday      0 days 00:18:24.615093856\n",
       "Monday      0 days 00:16:23.249761388\n",
       "Saturday    0 days 00:18:28.361847629\n",
       "Sunday      0 days 00:16:35.064577508\n",
       "Thursday    0 days 00:16:52.944612605\n",
       "Tuesday     0 days 00:14:50.771706023\n",
       "Wednesday   0 days 00:17:05.328740128\n",
       "Name: tripDuration, dtype: timedelta64[ns]"
      ]
     },
     "execution_count": 41,
     "metadata": {},
     "output_type": "execute_result"
    }
   ],
   "source": [
    "# calculate the average tripDuration for Subscriber in a week\n",
    "\n",
    "user_avg_subscriber = bike_data[bike_data['userType'] == 'Subscriber'].groupby('dayName')['tripDuration'].mean(numeric_only=False)\n",
    "user_avg_subscriber"
   ]
  },
  {
   "cell_type": "markdown",
   "id": "13142bad",
   "metadata": {},
   "source": [
    "#### plot the average ride_length for different users during the week"
   ]
  },
  {
   "cell_type": "code",
   "execution_count": 42,
   "id": "63a34eb7",
   "metadata": {},
   "outputs": [
    {
     "data": {
      "image/png": "[encoded data removed]",
      "text/plain": [
       "<Figure size 1000x600 with 1 Axes>"
      ]
     },
     "metadata": {},
     "output_type": "display_data"
    }
   ],
   "source": [
    "plt.figure(figsize = (10,6))\n",
    "plt.plot(user_avg_customer/pd.Timedelta(minutes=1))\n",
    "plt.plot(user_avg_subscriber/pd.Timedelta(minutes=1))\n",
    "plt.title('The average trip duration for both user types during the week')\n",
    "plt.legend(['Customer', 'Subscriber'])\n",
    "labels = ['Sunday', 'Monday', 'Tuesday', 'Wednesday', 'Thursday', 'Friday', 'Saturday']\n",
    "plt.xticks(user_avg_customer.index, labels)\n",
    "plt.show();"
   ]
  },
  {
   "cell_type": "code",
   "execution_count": null,
   "id": "c21773c6",
   "metadata": {},
   "outputs": [],
   "source": []
  },
  {
   "cell_type": "markdown",
   "id": "61c9340b",
   "metadata": {},
   "source": [
    "#### the number of users in each user type over the past 12 months"
   ]
  },
  {
   "cell_type": "code",
   "execution_count": 43,
   "id": "376a82ad",
   "metadata": {},
   "outputs": [
    {
     "data": {
      "text/plain": [
       "Subscriber    1988494\n",
       "Customer       534277\n",
       "Name: userType, dtype: int64"
      ]
     },
     "execution_count": 43,
     "metadata": {},
     "output_type": "execute_result"
    }
   ],
   "source": [
    "\n",
    "user_types = bike_data['userType'].value_counts()\n",
    "user_types\n"
   ]
  },
  {
   "cell_type": "code",
   "execution_count": 44,
   "id": "5a27adda",
   "metadata": {},
   "outputs": [
    {
     "data": {
      "image/png": "[encoded data removed]",
      "text/plain": [
       "<Figure size 640x480 with 1 Axes>"
      ]
     },
     "metadata": {},
     "output_type": "display_data"
    }
   ],
   "source": [
    "# the number of users in each type over the past 12 months\n",
    "\n",
    "plt.title('Number of users by user type')\n",
    "plt.bar(user_types.index, user_types.values)\n",
    "plt.show()\n"
   ]
  },
  {
   "cell_type": "code",
   "execution_count": 45,
   "id": "aeb4fd5a",
   "metadata": {},
   "outputs": [
    {
     "data": {
      "image/png": "[encoded data removed]",
      "text/plain": [
       "<Figure size 900x600 with 1 Axes>"
      ]
     },
     "metadata": {},
     "output_type": "display_data"
    }
   ],
   "source": [
    "# the pie chart of users in each type \n",
    "\n",
    "plt.figure(figsize = (9,6))\n",
    "plt.title('Pie Chart of users by userType')\n",
    "plt.pie(user_types.values, labels= user_types.index, autopct= '%1.1f%%')\n",
    "plt.legend(user_types.index)\n",
    "plt.show()"
   ]
  },
  {
   "cell_type": "code",
   "execution_count": 46,
   "id": "3bcb48c3",
   "metadata": {},
   "outputs": [
    {
     "data": {
      "text/plain": [
       "year            \n",
       "2019  Subscriber    1988494\n",
       "      Customer       534277\n",
       "Name: userType, dtype: int64"
      ]
     },
     "execution_count": 46,
     "metadata": {},
     "output_type": "execute_result"
    }
   ],
   "source": [
    "# the number of users into members and casual over year\n",
    "\n",
    "users_over_year = bike_data.groupby('year')['userType'].value_counts()\n",
    "users_over_year "
   ]
  },
  {
   "cell_type": "code",
   "execution_count": 47,
   "id": "5a2b67bd",
   "metadata": {},
   "outputs": [
    {
     "data": {
      "text/plain": [
       "month            \n",
       "1      Subscriber     65090\n",
       "       Customer        4782\n",
       "2      Subscriber     73691\n",
       "       Customer        6775\n",
       "3      Subscriber     87846\n",
       "       Customer       14523\n",
       "4      Subscriber    131880\n",
       "       Customer       34814\n",
       "5      Subscriber    171087\n",
       "       Customer       51997\n",
       "6      Subscriber    200384\n",
       "       Customer       73699\n",
       "7      Subscriber    234918\n",
       "       Customer       82110\n",
       "8      Subscriber    250158\n",
       "       Customer       87361\n",
       "9      Subscriber    281024\n",
       "       Customer       82161\n",
       "10     Subscriber    248801\n",
       "       Customer       56703\n",
       "11     Subscriber    162317\n",
       "       Customer       28442\n",
       "12     Subscriber     81298\n",
       "       Customer       10910\n",
       "Name: userType, dtype: int64"
      ]
     },
     "execution_count": 47,
     "metadata": {},
     "output_type": "execute_result"
    }
   ],
   "source": [
    "# the total amount of users in each category per month\n",
    "users_over_month = bike_data.groupby('month')['userType'].value_counts()\n",
    "users_over_month"
   ]
  },
  {
   "cell_type": "code",
   "execution_count": 48,
   "id": "db9399b5",
   "metadata": {},
   "outputs": [],
   "source": [
    "# the number of users into customers and subscribers over months\n",
    "list_month = []\n",
    "list_x = []\n",
    "list_y = (users_over_month.values)\n",
    "for i, j in users_over_month.index:\n",
    "    list_x.append(j)\n",
    "    list_month.append(str(i))"
   ]
  },
  {
   "cell_type": "code",
   "execution_count": null,
   "id": "46bc407d",
   "metadata": {},
   "outputs": [],
   "source": []
  },
  {
   "cell_type": "code",
   "execution_count": 49,
   "id": "e60e308a",
   "metadata": {},
   "outputs": [
    {
     "ename": "SyntaxError",
     "evalue": "invalid syntax (3686123862.py, line 2)",
     "output_type": "error",
     "traceback": [
      "\u001b[0;36m  Cell \u001b[0;32mIn [49], line 2\u001b[0;36m\u001b[0m\n\u001b[0;31m    sns.barplot(data=bike_data, x='month', y=, ax=ax)\u001b[0m\n\u001b[0m                                             ^\u001b[0m\n\u001b[0;31mSyntaxError\u001b[0m\u001b[0;31m:\u001b[0m invalid syntax\n"
     ]
    }
   ],
   "source": [
    "fig, ax = plt.subplots(figsize=(20,10))\n",
    "sns.barplot(data=bike_data, x='month', y=, ax=ax)\n",
    "\n",
    "ax.set(title='Count of bikes during different months')\n"
   ]
  },
  {
   "cell_type": "code",
   "execution_count": 50,
   "id": "0d36c9f8",
   "metadata": {},
   "outputs": [
    {
     "data": {
      "text/html": [
       "<div>\n",
       "<style scoped>\n",
       "    .dataframe tbody tr th:only-of-type {\n",
       "        vertical-align: middle;\n",
       "    }\n",
       "\n",
       "    .dataframe tbody tr th {\n",
       "        vertical-align: top;\n",
       "    }\n",
       "\n",
       "    .dataframe thead th {\n",
       "        text-align: right;\n",
       "    }\n",
       "</style>\n",
       "<table border=\"1\" class=\"dataframe\">\n",
       "  <thead>\n",
       "    <tr style=\"text-align: right;\">\n",
       "      <th></th>\n",
       "      <th>tripDuration</th>\n",
       "      <th>startTime</th>\n",
       "      <th>stopTime</th>\n",
       "      <th>startStationId</th>\n",
       "      <th>startStationName</th>\n",
       "      <th>startStationLatitude</th>\n",
       "      <th>startStationLongitude</th>\n",
       "      <th>endStationId</th>\n",
       "      <th>endStationName</th>\n",
       "      <th>endStationlatitude</th>\n",
       "      <th>endStationLongitude</th>\n",
       "      <th>bikeId</th>\n",
       "      <th>userType</th>\n",
       "      <th>birthYear</th>\n",
       "      <th>gender</th>\n",
       "      <th>startDate</th>\n",
       "      <th>dayName</th>\n",
       "      <th>year</th>\n",
       "      <th>month</th>\n",
       "    </tr>\n",
       "  </thead>\n",
       "  <tbody>\n",
       "    <tr>\n",
       "      <th>0</th>\n",
       "      <td>0 days 00:06:11</td>\n",
       "      <td>2019-01-01 00:09:13.798</td>\n",
       "      <td>2019-01-01 00:15:25.336</td>\n",
       "      <td>80</td>\n",
       "      <td>MIT Stata Center at Vassar St / Main St</td>\n",
       "      <td>42.362131</td>\n",
       "      <td>-71.091156</td>\n",
       "      <td>179</td>\n",
       "      <td>MIT Vassar St</td>\n",
       "      <td>42.355601</td>\n",
       "      <td>-71.103945</td>\n",
       "      <td>3689</td>\n",
       "      <td>Subscriber</td>\n",
       "      <td>1987</td>\n",
       "      <td>1</td>\n",
       "      <td>2019-01-01</td>\n",
       "      <td>Tuesday</td>\n",
       "      <td>2019</td>\n",
       "      <td>1</td>\n",
       "    </tr>\n",
       "    <tr>\n",
       "      <th>1</th>\n",
       "      <td>0 days 00:04:24</td>\n",
       "      <td>2019-01-01 00:33:56.182</td>\n",
       "      <td>2019-01-01 00:38:20.880</td>\n",
       "      <td>117</td>\n",
       "      <td>Binney St / Sixth St</td>\n",
       "      <td>42.366162</td>\n",
       "      <td>-71.086883</td>\n",
       "      <td>189</td>\n",
       "      <td>Kendall T</td>\n",
       "      <td>42.362428</td>\n",
       "      <td>-71.084955</td>\n",
       "      <td>4142</td>\n",
       "      <td>Subscriber</td>\n",
       "      <td>1990</td>\n",
       "      <td>1</td>\n",
       "      <td>2019-01-01</td>\n",
       "      <td>Tuesday</td>\n",
       "      <td>2019</td>\n",
       "      <td>1</td>\n",
       "    </tr>\n",
       "    <tr>\n",
       "      <th>2</th>\n",
       "      <td>0 days 00:07:38</td>\n",
       "      <td>2019-01-01 00:41:54.600</td>\n",
       "      <td>2019-01-01 00:49:33.273</td>\n",
       "      <td>68</td>\n",
       "      <td>Central Square at Mass Ave / Essex St</td>\n",
       "      <td>42.365070</td>\n",
       "      <td>-71.103100</td>\n",
       "      <td>96</td>\n",
       "      <td>Cambridge Main Library at Broadway / Trowbridg...</td>\n",
       "      <td>42.373379</td>\n",
       "      <td>-71.111075</td>\n",
       "      <td>1628</td>\n",
       "      <td>Subscriber</td>\n",
       "      <td>1977</td>\n",
       "      <td>1</td>\n",
       "      <td>2019-01-01</td>\n",
       "      <td>Tuesday</td>\n",
       "      <td>2019</td>\n",
       "      <td>1</td>\n",
       "    </tr>\n",
       "  </tbody>\n",
       "</table>\n",
       "</div>"
      ],
      "text/plain": [
       "     tripDuration               startTime                stopTime  \\\n",
       "0 0 days 00:06:11 2019-01-01 00:09:13.798 2019-01-01 00:15:25.336   \n",
       "1 0 days 00:04:24 2019-01-01 00:33:56.182 2019-01-01 00:38:20.880   \n",
       "2 0 days 00:07:38 2019-01-01 00:41:54.600 2019-01-01 00:49:33.273   \n",
       "\n",
       "   startStationId                         startStationName  \\\n",
       "0              80  MIT Stata Center at Vassar St / Main St   \n",
       "1             117                     Binney St / Sixth St   \n",
       "2              68    Central Square at Mass Ave / Essex St   \n",
       "\n",
       "   startStationLatitude  startStationLongitude  endStationId  \\\n",
       "0             42.362131             -71.091156           179   \n",
       "1             42.366162             -71.086883           189   \n",
       "2             42.365070             -71.103100            96   \n",
       "\n",
       "                                      endStationName  endStationlatitude  \\\n",
       "0                                      MIT Vassar St           42.355601   \n",
       "1                                          Kendall T           42.362428   \n",
       "2  Cambridge Main Library at Broadway / Trowbridg...           42.373379   \n",
       "\n",
       "   endStationLongitude  bikeId    userType  birthYear  gender  startDate  \\\n",
       "0           -71.103945    3689  Subscriber       1987       1 2019-01-01   \n",
       "1           -71.084955    4142  Subscriber       1990       1 2019-01-01   \n",
       "2           -71.111075    1628  Subscriber       1977       1 2019-01-01   \n",
       "\n",
       "   dayName  year  month  \n",
       "0  Tuesday  2019      1  \n",
       "1  Tuesday  2019      1  \n",
       "2  Tuesday  2019      1  "
      ]
     },
     "execution_count": 50,
     "metadata": {},
     "output_type": "execute_result"
    }
   ],
   "source": [
    "bike_data.head(3)"
   ]
  },
  {
   "cell_type": "code",
   "execution_count": 51,
   "id": "9270c917",
   "metadata": {},
   "outputs": [],
   "source": [
    "import calendar\n",
    "bike_data['monthName'] = bike_data['month'].apply(lambda x: calendar.month_abbr[x])"
   ]
  },
  {
   "cell_type": "code",
   "execution_count": 52,
   "id": "52b57984",
   "metadata": {},
   "outputs": [
    {
     "data": {
      "image/png": "[encoded data removed]",
      "text/plain": [
       "<Figure size 640x480 with 1 Axes>"
      ]
     },
     "metadata": {},
     "output_type": "display_data"
    }
   ],
   "source": [
    "bike_data.groupby('month')['tripDuration'].nunique().plot(kind='bar')\n",
    "plt.show()\n"
   ]
  },
  {
   "cell_type": "code",
   "execution_count": 53,
   "id": "37da3405",
   "metadata": {},
   "outputs": [
    {
     "data": {
      "image/png": "[encoded data removed]",
      "text/plain": [
       "<Figure size 640x480 with 1 Axes>"
      ]
     },
     "metadata": {},
     "output_type": "display_data"
    }
   ],
   "source": [
    "plt.scatter(x=bike_data['startStationLatitude'], y=bike_data['startStationLongitude'])\n",
    "plt.show()"
   ]
  },
  {
   "cell_type": "code",
   "execution_count": 54,
   "id": "382d5c50",
   "metadata": {},
   "outputs": [
    {
     "data": {
      "image/png": "[encoded data removed]",
      "text/plain": [
       "<Figure size 640x480 with 1 Axes>"
      ]
     },
     "metadata": {},
     "output_type": "display_data"
    }
   ],
   "source": [
    "plt.scatter(x=bike_data['endStationlatitude'], y=bike_data['endStationLongitude'])\n",
    "plt.show()"
   ]
  },
  {
   "cell_type": "code",
   "execution_count": 55,
   "id": "622a2744",
   "metadata": {},
   "outputs": [],
   "source": [
    "# Add a new feature for tripDuration in seconds\n",
    "bike_data['tripDurationSeconds'] = bike_data['tripDuration'].dt.total_seconds()"
   ]
  },
  {
   "cell_type": "code",
   "execution_count": 56,
   "id": "b6de5b90",
   "metadata": {},
   "outputs": [
    {
     "data": {
      "text/html": [
       "<div>\n",
       "<style scoped>\n",
       "    .dataframe tbody tr th:only-of-type {\n",
       "        vertical-align: middle;\n",
       "    }\n",
       "\n",
       "    .dataframe tbody tr th {\n",
       "        vertical-align: top;\n",
       "    }\n",
       "\n",
       "    .dataframe thead th {\n",
       "        text-align: right;\n",
       "    }\n",
       "</style>\n",
       "<table border=\"1\" class=\"dataframe\">\n",
       "  <thead>\n",
       "    <tr style=\"text-align: right;\">\n",
       "      <th></th>\n",
       "      <th>tripDuration</th>\n",
       "      <th>startTime</th>\n",
       "      <th>stopTime</th>\n",
       "      <th>startStationId</th>\n",
       "      <th>startStationName</th>\n",
       "      <th>startStationLatitude</th>\n",
       "      <th>startStationLongitude</th>\n",
       "      <th>endStationId</th>\n",
       "      <th>endStationName</th>\n",
       "      <th>endStationlatitude</th>\n",
       "      <th>...</th>\n",
       "      <th>bikeId</th>\n",
       "      <th>userType</th>\n",
       "      <th>birthYear</th>\n",
       "      <th>gender</th>\n",
       "      <th>startDate</th>\n",
       "      <th>dayName</th>\n",
       "      <th>year</th>\n",
       "      <th>month</th>\n",
       "      <th>monthName</th>\n",
       "      <th>tripDurationSeconds</th>\n",
       "    </tr>\n",
       "  </thead>\n",
       "  <tbody>\n",
       "    <tr>\n",
       "      <th>0</th>\n",
       "      <td>0 days 00:06:11</td>\n",
       "      <td>2019-01-01 00:09:13.798</td>\n",
       "      <td>2019-01-01 00:15:25.336</td>\n",
       "      <td>80</td>\n",
       "      <td>MIT Stata Center at Vassar St / Main St</td>\n",
       "      <td>42.362131</td>\n",
       "      <td>-71.091156</td>\n",
       "      <td>179</td>\n",
       "      <td>MIT Vassar St</td>\n",
       "      <td>42.355601</td>\n",
       "      <td>...</td>\n",
       "      <td>3689</td>\n",
       "      <td>Subscriber</td>\n",
       "      <td>1987</td>\n",
       "      <td>1</td>\n",
       "      <td>2019-01-01</td>\n",
       "      <td>Tuesday</td>\n",
       "      <td>2019</td>\n",
       "      <td>1</td>\n",
       "      <td>Jan</td>\n",
       "      <td>371.0</td>\n",
       "    </tr>\n",
       "    <tr>\n",
       "      <th>1</th>\n",
       "      <td>0 days 00:04:24</td>\n",
       "      <td>2019-01-01 00:33:56.182</td>\n",
       "      <td>2019-01-01 00:38:20.880</td>\n",
       "      <td>117</td>\n",
       "      <td>Binney St / Sixth St</td>\n",
       "      <td>42.366162</td>\n",
       "      <td>-71.086883</td>\n",
       "      <td>189</td>\n",
       "      <td>Kendall T</td>\n",
       "      <td>42.362428</td>\n",
       "      <td>...</td>\n",
       "      <td>4142</td>\n",
       "      <td>Subscriber</td>\n",
       "      <td>1990</td>\n",
       "      <td>1</td>\n",
       "      <td>2019-01-01</td>\n",
       "      <td>Tuesday</td>\n",
       "      <td>2019</td>\n",
       "      <td>1</td>\n",
       "      <td>Jan</td>\n",
       "      <td>264.0</td>\n",
       "    </tr>\n",
       "    <tr>\n",
       "      <th>2</th>\n",
       "      <td>0 days 00:07:38</td>\n",
       "      <td>2019-01-01 00:41:54.600</td>\n",
       "      <td>2019-01-01 00:49:33.273</td>\n",
       "      <td>68</td>\n",
       "      <td>Central Square at Mass Ave / Essex St</td>\n",
       "      <td>42.365070</td>\n",
       "      <td>-71.103100</td>\n",
       "      <td>96</td>\n",
       "      <td>Cambridge Main Library at Broadway / Trowbridg...</td>\n",
       "      <td>42.373379</td>\n",
       "      <td>...</td>\n",
       "      <td>1628</td>\n",
       "      <td>Subscriber</td>\n",
       "      <td>1977</td>\n",
       "      <td>1</td>\n",
       "      <td>2019-01-01</td>\n",
       "      <td>Tuesday</td>\n",
       "      <td>2019</td>\n",
       "      <td>1</td>\n",
       "      <td>Jan</td>\n",
       "      <td>458.0</td>\n",
       "    </tr>\n",
       "  </tbody>\n",
       "</table>\n",
       "<p>3 rows × 21 columns</p>\n",
       "</div>"
      ],
      "text/plain": [
       "     tripDuration               startTime                stopTime  \\\n",
       "0 0 days 00:06:11 2019-01-01 00:09:13.798 2019-01-01 00:15:25.336   \n",
       "1 0 days 00:04:24 2019-01-01 00:33:56.182 2019-01-01 00:38:20.880   \n",
       "2 0 days 00:07:38 2019-01-01 00:41:54.600 2019-01-01 00:49:33.273   \n",
       "\n",
       "   startStationId                         startStationName  \\\n",
       "0              80  MIT Stata Center at Vassar St / Main St   \n",
       "1             117                     Binney St / Sixth St   \n",
       "2              68    Central Square at Mass Ave / Essex St   \n",
       "\n",
       "   startStationLatitude  startStationLongitude  endStationId  \\\n",
       "0             42.362131             -71.091156           179   \n",
       "1             42.366162             -71.086883           189   \n",
       "2             42.365070             -71.103100            96   \n",
       "\n",
       "                                      endStationName  endStationlatitude  ...  \\\n",
       "0                                      MIT Vassar St           42.355601  ...   \n",
       "1                                          Kendall T           42.362428  ...   \n",
       "2  Cambridge Main Library at Broadway / Trowbridg...           42.373379  ...   \n",
       "\n",
       "   bikeId    userType birthYear  gender  startDate  dayName  year  month  \\\n",
       "0    3689  Subscriber      1987       1 2019-01-01  Tuesday  2019      1   \n",
       "1    4142  Subscriber      1990       1 2019-01-01  Tuesday  2019      1   \n",
       "2    1628  Subscriber      1977       1 2019-01-01  Tuesday  2019      1   \n",
       "\n",
       "   monthName tripDurationSeconds  \n",
       "0        Jan               371.0  \n",
       "1        Jan               264.0  \n",
       "2        Jan               458.0  \n",
       "\n",
       "[3 rows x 21 columns]"
      ]
     },
     "execution_count": 56,
     "metadata": {},
     "output_type": "execute_result"
    }
   ],
   "source": [
    "bike_data.head(3)"
   ]
  },
  {
   "cell_type": "code",
   "execution_count": 1,
   "id": "10c4ff0e",
   "metadata": {},
   "outputs": [],
   "source": [
    "import seaborn as sns\n",
    "import pandas as pd\n",
    "import matplotlib.pyplot as plt\n",
    "import datetime as dt\n",
    "from sklearn import preprocessing\n",
    "import numpy as np"
   ]
  },
  {
   "cell_type": "code",
   "execution_count": 2,
   "id": "69ef61f4",
   "metadata": {},
   "outputs": [],
   "source": [
    "df_1 = pd.read_csv('C:/Users/SAMUEL/Desktop/MasterClass/ML/mlprojs/2019/201901-bluebikes-tripdata.csv')\n",
    "df_2 = pd.read_csv('C:/Users/SAMUEL/Desktop/MasterClass/ML/mlprojs/2019/201902-bluebikes-tripdata.csv')\n",
    "df_3 = pd.read_csv('C:/Users/SAMUEL/Desktop/MasterClass/ML/mlprojs/2019/201903-bluebikes-tripdata.csv')\n",
    "df_4 = pd.read_csv('C:/Users/SAMUEL/Desktop/MasterClass/ML/mlprojs/2019/201904-bluebikes-tripdata.csv')\n",
    "df_5 = pd.read_csv('C:/Users/SAMUEL/Desktop/MasterClass/ML/mlprojs/2019/201905-bluebikes-tripdata.csv')\n",
    "df_6 = pd.read_csv('C:/Users/SAMUEL/Desktop/MasterClass/ML/mlprojs/2019/201906-bluebikes-tripdata.csv')\n",
    "df_7 = pd.read_csv('C:/Users/SAMUEL/Desktop/MasterClass/ML/mlprojs/2019/201907-bluebikes-tripdata.csv')\n",
    "df_8 = pd.read_csv('C:/Users/SAMUEL/Desktop/MasterClass/ML/mlprojs/2019/201908-bluebikes-tripdata.csv')\n",
    "df_9 = pd.read_csv('C:/Users/SAMUEL/Desktop/MasterClass/ML/mlprojs/2019/201909-bluebikes-tripdata.csv')\n",
    "df_10 = pd.read_csv('C:/Users/SAMUEL/Desktop/MasterClass/ML/mlprojs/2019/201910-bluebikes-tripdata.csv')\n",
    "df_11 = pd.read_csv('C:/Users/SAMUEL/Desktop/MasterClass/ML/mlprojs/2019/201911-bluebikes-tripdata.csv')\n",
    "df_12 = pd.read_csv('C:/Users/SAMUEL/Desktop/MasterClass/ML/mlprojs/2019/201912-bluebikes-tripdata.csv')"
   ]
  },
  {
   "cell_type": "code",
   "execution_count": 3,
   "id": "397be0cb",
   "metadata": {},
   "outputs": [
    {
     "data": {
      "text/plain": [
       "(2522771, 15)"
      ]
     },
     "execution_count": 3,
     "metadata": {},
     "output_type": "execute_result"
    }
   ],
   "source": [
    "bikedata = pd.concat([df_1, df_2, df_3, df_4, df_5, df_6, df_7, df_8, df_9, df_10, df_11, df_12])\n",
    "bikedata.shape"
   ]
  },
  {
   "cell_type": "code",
   "execution_count": 4,
   "id": "0de99987",
   "metadata": {},
   "outputs": [
    {
     "data": {
      "text/plain": [
       "tripduration               0\n",
       "starttime                  0\n",
       "stoptime                   0\n",
       "start station id           0\n",
       "start station name         0\n",
       "start station latitude     0\n",
       "start station longitude    0\n",
       "end station id             0\n",
       "end station name           0\n",
       "end station latitude       0\n",
       "end station longitude      0\n",
       "bikeid                     0\n",
       "usertype                   0\n",
       "birth year                 0\n",
       "gender                     0\n",
       "dtype: int64"
      ]
     },
     "execution_count": 4,
     "metadata": {},
     "output_type": "execute_result"
    }
   ],
   "source": [
    "bikedata.isnull().sum()"
   ]
  },
  {
   "cell_type": "markdown",
   "id": "ec17da95",
   "metadata": {},
   "source": [
    "### create new columns and transform to int"
   ]
  },
  {
   "cell_type": "code",
   "execution_count": 5,
   "id": "f96a891d",
   "metadata": {},
   "outputs": [],
   "source": [
    "bikedata['starttime']=pd.to_datetime(bikedata['starttime'])\n",
    "bikedata['stoptime']=pd.to_datetime(bikedata['stoptime'])\n",
    "bikedata['duration']=bikedata['starttime']-bikedata['stoptime']\n",
    "bikedata['weekday']=bikedata['starttime'].dt.day_name()\n",
    "bikedata['hour']=bikedata['starttime'].dt.hour\n",
    "bikedata['month']=bikedata['starttime'].dt.month\n",
    "bikedata['year']=bikedata['starttime'].dt.year\n",
    "bikedata['age']=bikedata['year']-bikedata['birth year']\n",
    "\n",
    "le = preprocessing.LabelEncoder()\n",
    "le.fit(bikedata['usertype'])\n",
    "bikedata['usertypeNo']=le.transform(bikedata['usertype'])\n",
    "le.fit(bikedata['weekday'])\n",
    "bikedata['weekdayNo']=le.transform(bikedata['weekday'])"
   ]
  },
  {
   "cell_type": "code",
   "execution_count": 6,
   "id": "39684955",
   "metadata": {},
   "outputs": [
    {
     "data": {
      "text/plain": [
       "Index(['tripduration', 'start station id', 'end station id', 'bikeid',\n",
       "       'gender', 'hour', 'month', 'age', 'usertypeNo', 'weekdayNo'],\n",
       "      dtype='object')"
      ]
     },
     "execution_count": 6,
     "metadata": {},
     "output_type": "execute_result"
    }
   ],
   "source": [
    "bikedatareduced=bikedata.drop(['starttime', 'stoptime',\n",
    "       'start station latitude', 'start station longitude',\n",
    "       'end station name', 'end station latitude', 'end station longitude',\n",
    "       'birth year', 'duration','start station name','weekday','usertype',\n",
    "        'year'], axis=1)\n",
    "bikedatareduced.columns"
   ]
  },
  {
   "cell_type": "code",
   "execution_count": 7,
   "id": "5e8c5e25",
   "metadata": {},
   "outputs": [
    {
     "data": {
      "text/plain": [
       "<function matplotlib.pyplot.show(close=None, block=None)>"
      ]
     },
     "execution_count": 7,
     "metadata": {},
     "output_type": "execute_result"
    },
    {
     "data": {
      "image/png": "[encoded data removed]",
      "text/plain": [
       "<Figure size 720x504 with 2 Axes>"
      ]
     },
     "metadata": {
      "needs_background": "light"
     },
     "output_type": "display_data"
    }
   ],
   "source": [
    "plt.figure(figsize=(10,7))\n",
    "sns.heatmap(bikedatareduced.corr(),cbar=True,linewidths=0.5,cmap=\"coolwarm\",annot=True)\n",
    "plt.show"
   ]
  },
  {
   "cell_type": "markdown",
   "id": "a06ee4f9",
   "metadata": {},
   "source": [
    "### Linear regression"
   ]
  },
  {
   "cell_type": "code",
   "execution_count": 8,
   "id": "e9644720",
   "metadata": {},
   "outputs": [
    {
     "data": {
      "text/plain": [
       "(2522771, 9)"
      ]
     },
     "execution_count": 8,
     "metadata": {},
     "output_type": "execute_result"
    }
   ],
   "source": [
    "feature_cols = ['tripduration', 'start station id', 'bikeid',\n",
    "       'gender', 'hour', 'month', 'age', 'usertypeNo', 'weekdayNo']\n",
    "X = bikedatareduced[feature_cols]\n",
    "X.shape"
   ]
  },
  {
   "cell_type": "code",
   "execution_count": 9,
   "id": "e43cf6fe",
   "metadata": {},
   "outputs": [
    {
     "data": {
      "text/plain": [
       "(2522771,)"
      ]
     },
     "execution_count": 9,
     "metadata": {},
     "output_type": "execute_result"
    }
   ],
   "source": [
    "y=bikedatareduced['end station id']\n",
    "y.shape"
   ]
  },
  {
   "cell_type": "markdown",
   "id": "81457c4d",
   "metadata": {},
   "source": [
    "### Training and testing "
   ]
  },
  {
   "cell_type": "code",
   "execution_count": 10,
   "id": "e4ce3c79",
   "metadata": {},
   "outputs": [],
   "source": [
    "from sklearn.model_selection import train_test_split\n",
    "from sklearn import metrics"
   ]
  },
  {
   "cell_type": "code",
   "execution_count": 11,
   "id": "8fc63733",
   "metadata": {},
   "outputs": [],
   "source": [
    "X_train,X_test,y_train,y_test=train_test_split(X,y,random_state=1)"
   ]
  },
  {
   "cell_type": "code",
   "execution_count": 12,
   "id": "c03dacf2",
   "metadata": {},
   "outputs": [
    {
     "name": "stdout",
     "output_type": "stream",
     "text": [
      "(1892078, 9)\n",
      "(1892078,)\n",
      "(630693, 9)\n",
      "(630693,)\n"
     ]
    }
   ],
   "source": [
    "print(X_train.shape)\n",
    "print(y_train.shape)\n",
    "print(X_test.shape)\n",
    "print(y_test.shape)"
   ]
  },
  {
   "cell_type": "code",
   "execution_count": 13,
   "id": "ade2c494",
   "metadata": {},
   "outputs": [
    {
     "data": {
      "text/plain": [
       "LinearRegression()"
      ]
     },
     "execution_count": 13,
     "metadata": {},
     "output_type": "execute_result"
    }
   ],
   "source": [
    "from sklearn.linear_model import LinearRegression \n",
    "linreg=LinearRegression()\n",
    "linreg.fit(X_train,y_train)"
   ]
  },
  {
   "cell_type": "code",
   "execution_count": 14,
   "id": "a33bef75",
   "metadata": {},
   "outputs": [
    {
     "data": {
      "text/plain": [
       "[('tripduration', -3.593903325303567e-06),\n",
       " ('start station id', 0.04915010950365403),\n",
       " ('bikeid', 0.00038336657671893243),\n",
       " ('gender', 2.058423628537769),\n",
       " ('hour', 1.4603381464721212),\n",
       " ('month', 2.69631938698373),\n",
       " ('age', 0.059351998998212065),\n",
       " ('usertypeNo', -2.8339822761985474),\n",
       " ('weekdayNo', -0.12294340576820081)]"
      ]
     },
     "execution_count": 14,
     "metadata": {},
     "output_type": "execute_result"
    }
   ],
   "source": [
    "linreg.intercept_\n",
    "linreg.coef_\n",
    "list(zip(feature_cols, linreg.coef_))"
   ]
  },
  {
   "cell_type": "code",
   "execution_count": 15,
   "id": "cc04a46c",
   "metadata": {},
   "outputs": [],
   "source": [
    "y_pred=linreg.predict(X_test)"
   ]
  },
  {
   "cell_type": "code",
   "execution_count": 16,
   "id": "aa983815",
   "metadata": {},
   "outputs": [
    {
     "name": "stdout",
     "output_type": "stream",
     "text": [
      "117.49677302424698\n"
     ]
    }
   ],
   "source": [
    "print(np.sqrt(metrics.mean_squared_error(y_test, y_pred)))"
   ]
  },
  {
   "cell_type": "code",
   "execution_count": null,
   "id": "02063f86",
   "metadata": {},
   "outputs": [],
   "source": []
  },
  {
   "cell_type": "code",
   "execution_count": null,
   "id": "06e76f8a",
   "metadata": {},
   "outputs": [],
   "source": []
  }
 ],
 "metadata": {
  "kernelspec": {
   "display_name": "Python 3 (ipykernel)",
   "language": "python",
   "name": "python3"
  },
  "language_info": {
   "codemirror_mode": {
    "name": "ipython",
    "version": 3
   },
   "file_extension": ".py",
   "mimetype": "text/x-python",
   "name": "python",
   "nbconvert_exporter": "python",
   "pygments_lexer": "ipython3",
   "version": "3.9.12"
  }
 },
 "nbformat": 4,
 "nbformat_minor": 5
}
