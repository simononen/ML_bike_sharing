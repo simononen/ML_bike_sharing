{
 "cells": [
  {
   "cell_type": "markdown",
   "id": "153b55a4",
   "metadata": {},
   "source": [
    "# ML Title: Predicting Bicycle Imbalances in a bike-sharing System\n",
    "\n",
    "This notebook covers the exploration of the data identified and collected to be used to model a predictive model that can predict imbalances in a bike sharing system.\n",
    "\n",
    "The analysis shows investigations and plots conducted with intuition and includes the following\n",
    "\n",
    "1. Heat maps\n",
    "2. Correlation Matrices\n",
    "3. Boxplots\n",
    "4. Feature Independence Plots\n",
    "5. Outlier Plots\n",
    "6. Illustration of Patterns of Interest\n",
    "7. Illustration of Trends in Time and Space\n",
    "\n",
    "#### Our Approach\n",
    "> Approach will use a minimun of 10 ML models\n",
    "1. Problem Identification\n",
    "2. Avaibale Data\n",
    "3. How Evaluation is done\n",
    "4. The features avalibale\n",
    "5. Modelling\n",
    "6. Experimenting\n",
    "\n",
    "#### 1. Problem Identified\n",
    "> From the identified features in the dataset, can we predict whether or not there will be an imbalance in any given bike docking station or not?\n",
    "\n",
    "#### 2. Data\n",
    "\n",
    "The original data was initially from [Blue Bikes](https://www.bluebikes.com/system-data) system data. Another version is also available on [Kaggle](https://www.kaggle.com/datasets/jackdaoud/bluebikes-in-boston?resource=download).\n",
    "\n",
    "#### 3. Evaluation\n",
    "> For this model to be considered accurate a score of 97% will be considered.\n",
    "\n",
    "\n",
    "#### 4. Features\n",
    "> Details about each feature in the dataset\n",
    "\n",
    "**Data Features/Columns**\n",
    "   - ```tripduration```: duration of trip in seconds\n",
    "   - ```starttime```: start time and date of trip\n",
    "   - ```stoptime```: stop time and date of trip\n",
    "   - ```start station id```: unique ID of station the trip started at\n",
    "   - ```start station name```: name of station the trip started at\n",
    "   - ```start station latitude```: latitude of start station of trip\n",
    "   - ```start station longitude```: longitude of start station of trip\n",
    "   - ```end station id```: unique ID of station the trip started at\n",
    "   - ```end station name```: name of station the trip ended at\n",
    "   - ```end station latitude```: latitude of end station of trip\n",
    "   - ```end station longitude```: longitude of end station of trip\n",
    "   - ```bikeid```: unique ID of bike used for trip\n",
    "   - ```usertype```: type of user can be Customer or Subscriber\n",
    "   - ```postalcode```: postal code of user\n",
    "   - ```year```: year of when the trip took place\n",
    "   - ```month```: month of when the trip took place\n",
    "   - ```birth year```: birth year of user\n",
    "   - ```gender```: gender of user"
   ]
  },
  {
   "cell_type": "markdown",
   "id": "56413258",
   "metadata": {},
   "source": [
    "### EDA-TOOLS"
   ]
  },
  {
   "cell_type": "markdown",
   "id": "7004e127",
   "metadata": {},
   "source": [
    "#### The Tools to be used\n",
    "> importing the necessary libraries - pandas, numpy, matplotlib, sikit-learn models for training and evaluation"
   ]
  },
  {
   "cell_type": "code",
   "execution_count": 1,
   "id": "246e7b34",
   "metadata": {},
   "outputs": [
    {
     "name": "stderr",
     "output_type": "stream",
     "text": [
      "/Volumes/Jupiter/anaconda/anaconda3/lib/python3.9/site-packages/scipy/__init__.py:146: UserWarning: A NumPy version >=1.16.5 and <1.23.0 is required for this version of SciPy (detected version 1.23.4\n",
      "  warnings.warn(f\"A NumPy version >={np_minversion} and <{np_maxversion}\"\n"
     ]
    }
   ],
   "source": [
    "# imports\n",
    "import matplotlib.pyplot as plt \n",
    "import pandas as pd\n",
    "import numpy as np\n",
    "import seaborn as sns\n",
    "\n",
    "%matplotlib inline\n",
    "\n",
    "# Models from Scikit-Learn\n",
    "from sklearn.linear_model import LogisticRegression\n",
    "from sklearn.neighbors import KNeighborsClassifier\n",
    "from sklearn.ensemble import RandomForestClassifier\n",
    "\n",
    "#Model Evaluations\n",
    "from sklearn.model_selection import train_test_split, cross_val_score\n",
    "from sklearn.model_selection import RandomizedSearchCV, GridSearchCV\n",
    "from sklearn.metrics import confusion_matrix, classification_report\n",
    "from sklearn.metrics import precision_score, recall_score, f1_score\n",
    "from sklearn.metrics import plot_roc_curve\n",
    "\n",
    "# Set the seaborn style formating\n",
    "sns.color_palette(\"tab10\")\n",
    "plt.style.use('seaborn-colorblind')"
   ]
  },
  {
   "cell_type": "markdown",
   "id": "91c4c287",
   "metadata": {},
   "source": [
    "#### Load the datasets and merge"
   ]
  },
  {
   "cell_type": "code",
   "execution_count": 2,
   "id": "8b6a7932",
   "metadata": {},
   "outputs": [
    {
     "name": "stderr",
     "output_type": "stream",
     "text": [
      "/var/folders/jx/4wj38svs3nb6_35h0g9039mm0000gn/T/ipykernel_1716/910052091.py:2: DtypeWarning: Columns (13) have mixed types. Specify dtype option on import or set low_memory=False.\n",
      "  bike_df2 = pd.read_csv('datasets/bluebikes_tripdata_2020.csv')\n"
     ]
    }
   ],
   "source": [
    "bike_df1 = pd.read_csv('datasets/bluebikes_tripdata_2019.csv')\n",
    "bike_df2 = pd.read_csv('datasets/bluebikes_tripdata_2020.csv')"
   ]
  },
  {
   "cell_type": "markdown",
   "id": "693e9df5",
   "metadata": {},
   "source": [
    " Create a copy of each dataset"
   ]
  },
  {
   "cell_type": "code",
   "execution_count": 3,
   "id": "85054989",
   "metadata": {},
   "outputs": [],
   "source": [
    "bike_df1 = bike_df1.copy()\n",
    "bike_df2 = bike_df2.copy()"
   ]
  },
  {
   "cell_type": "markdown",
   "id": "ea001afc",
   "metadata": {},
   "source": [
    "Count the Number of rows"
   ]
  },
  {
   "cell_type": "code",
   "execution_count": 4,
   "id": "f27dcd43",
   "metadata": {},
   "outputs": [
    {
     "data": {
      "text/plain": [
       "(2522771, 17)"
      ]
     },
     "execution_count": 4,
     "metadata": {},
     "output_type": "execute_result"
    }
   ],
   "source": [
    "bike_df1.shape"
   ]
  },
  {
   "cell_type": "code",
   "execution_count": 5,
   "id": "8767d004",
   "metadata": {},
   "outputs": [
    {
     "data": {
      "text/plain": [
       "(1999446, 18)"
      ]
     },
     "execution_count": 5,
     "metadata": {},
     "output_type": "execute_result"
    }
   ],
   "source": [
    "bike_df2.shape"
   ]
  },
  {
   "cell_type": "markdown",
   "id": "8ade482b",
   "metadata": {},
   "source": [
    "Check the column features on each dataset before merge"
   ]
  },
  {
   "cell_type": "code",
   "execution_count": 6,
   "id": "4ba29c24",
   "metadata": {},
   "outputs": [
    {
     "data": {
      "text/plain": [
       "Index(['tripduration', 'starttime', 'stoptime', 'start station id',\n",
       "       'start station name', 'start station latitude',\n",
       "       'start station longitude', 'end station id', 'end station name',\n",
       "       'end station latitude', 'end station longitude', 'bikeid', 'usertype',\n",
       "       'birth year', 'gender', 'year', 'month'],\n",
       "      dtype='object')"
      ]
     },
     "execution_count": 6,
     "metadata": {},
     "output_type": "execute_result"
    }
   ],
   "source": [
    "bike_df1.columns"
   ]
  },
  {
   "cell_type": "code",
   "execution_count": 7,
   "id": "00f1ec33",
   "metadata": {},
   "outputs": [
    {
     "data": {
      "text/plain": [
       "Index(['tripduration', 'starttime', 'stoptime', 'start station id',\n",
       "       'start station name', 'start station latitude',\n",
       "       'start station longitude', 'end station id', 'end station name',\n",
       "       'end station latitude', 'end station longitude', 'bikeid', 'usertype',\n",
       "       'postal code', 'year', 'month', 'birth year', 'gender'],\n",
       "      dtype='object')"
      ]
     },
     "execution_count": 7,
     "metadata": {},
     "output_type": "execute_result"
    }
   ],
   "source": [
    "bike_df2.columns"
   ]
  },
  {
   "cell_type": "markdown",
   "id": "c68f20b3",
   "metadata": {},
   "source": [
    "Drop the column that does not exist on both datasets"
   ]
  },
  {
   "cell_type": "code",
   "execution_count": null,
   "id": "13b5362b",
   "metadata": {},
   "outputs": [],
   "source": []
  },
  {
   "cell_type": "markdown",
   "id": "66d97a6e",
   "metadata": {},
   "source": [
    "Concat the dataset into one"
   ]
  },
  {
   "cell_type": "code",
   "execution_count": 8,
   "id": "30911a73",
   "metadata": {},
   "outputs": [],
   "source": [
    "bike_df = pd.concat([bike_df1, bike_df2])"
   ]
  },
  {
   "cell_type": "code",
   "execution_count": 9,
   "id": "48962c60",
   "metadata": {},
   "outputs": [
    {
     "data": {
      "text/plain": [
       "(4522217, 18)"
      ]
     },
     "execution_count": 9,
     "metadata": {},
     "output_type": "execute_result"
    }
   ],
   "source": [
    "bike_df.shape"
   ]
  },
  {
   "cell_type": "code",
   "execution_count": 10,
   "id": "58156b1f",
   "metadata": {},
   "outputs": [
    {
     "data": {
      "text/plain": [
       "tripduration                     0\n",
       "starttime                        0\n",
       "stoptime                         0\n",
       "start station id                 0\n",
       "start station name               0\n",
       "start station latitude           0\n",
       "start station longitude          0\n",
       "end station id                   0\n",
       "end station name                 0\n",
       "end station latitude             0\n",
       "end station longitude            0\n",
       "bikeid                           0\n",
       "usertype                         0\n",
       "birth year                 1583470\n",
       "gender                     1583470\n",
       "year                             0\n",
       "month                            0\n",
       "postal code                3080080\n",
       "dtype: int64"
      ]
     },
     "execution_count": 10,
     "metadata": {},
     "output_type": "execute_result"
    }
   ],
   "source": [
    "# Check and Drop null values\n",
    "\n",
    "bike_df.isna().sum()"
   ]
  },
  {
   "cell_type": "code",
   "execution_count": 11,
   "id": "89261fb2",
   "metadata": {},
   "outputs": [
    {
     "data": {
      "text/plain": [
       "(4522217, 18)"
      ]
     },
     "execution_count": 11,
     "metadata": {},
     "output_type": "execute_result"
    }
   ],
   "source": [
    "bike_df.shape"
   ]
  },
  {
   "cell_type": "code",
   "execution_count": 12,
   "id": "c45abc59",
   "metadata": {},
   "outputs": [
    {
     "data": {
      "text/html": [
       "<div>\n",
       "<style scoped>\n",
       "    .dataframe tbody tr th:only-of-type {\n",
       "        vertical-align: middle;\n",
       "    }\n",
       "\n",
       "    .dataframe tbody tr th {\n",
       "        vertical-align: top;\n",
       "    }\n",
       "\n",
       "    .dataframe thead th {\n",
       "        text-align: right;\n",
       "    }\n",
       "</style>\n",
       "<table border=\"1\" class=\"dataframe\">\n",
       "  <thead>\n",
       "    <tr style=\"text-align: right;\">\n",
       "      <th></th>\n",
       "      <th>tripduration</th>\n",
       "      <th>start station id</th>\n",
       "      <th>start station latitude</th>\n",
       "      <th>start station longitude</th>\n",
       "      <th>end station id</th>\n",
       "      <th>end station latitude</th>\n",
       "      <th>end station longitude</th>\n",
       "      <th>bikeid</th>\n",
       "      <th>birth year</th>\n",
       "      <th>gender</th>\n",
       "      <th>year</th>\n",
       "      <th>month</th>\n",
       "    </tr>\n",
       "  </thead>\n",
       "  <tbody>\n",
       "    <tr>\n",
       "      <th>count</th>\n",
       "      <td>4.522217e+06</td>\n",
       "      <td>4.522217e+06</td>\n",
       "      <td>4.522217e+06</td>\n",
       "      <td>4.522217e+06</td>\n",
       "      <td>4.522217e+06</td>\n",
       "      <td>4.522217e+06</td>\n",
       "      <td>4.522217e+06</td>\n",
       "      <td>4.522217e+06</td>\n",
       "      <td>2.938747e+06</td>\n",
       "      <td>2.938747e+06</td>\n",
       "      <td>4.522217e+06</td>\n",
       "      <td>4.522217e+06</td>\n",
       "    </tr>\n",
       "    <tr>\n",
       "      <th>mean</th>\n",
       "      <td>2.033293e+03</td>\n",
       "      <td>1.515240e+02</td>\n",
       "      <td>4.235678e+01</td>\n",
       "      <td>-7.108822e+01</td>\n",
       "      <td>1.506847e+02</td>\n",
       "      <td>4.235667e+01</td>\n",
       "      <td>-7.108785e+01</td>\n",
       "      <td>3.911434e+03</td>\n",
       "      <td>1.984802e+03</td>\n",
       "      <td>1.129286e+00</td>\n",
       "      <td>2.019442e+03</td>\n",
       "      <td>7.132860e+00</td>\n",
       "    </tr>\n",
       "    <tr>\n",
       "      <th>std</th>\n",
       "      <td>8.360404e+04</td>\n",
       "      <td>1.266333e+02</td>\n",
       "      <td>4.777192e-02</td>\n",
       "      <td>7.917777e-02</td>\n",
       "      <td>1.265186e+02</td>\n",
       "      <td>6.221080e-02</td>\n",
       "      <td>1.036350e-01</td>\n",
       "      <td>1.315869e+03</td>\n",
       "      <td>1.154080e+01</td>\n",
       "      <td>5.672495e-01</td>\n",
       "      <td>4.966408e-01</td>\n",
       "      <td>2.812958e+00</td>\n",
       "    </tr>\n",
       "    <tr>\n",
       "      <th>min</th>\n",
       "      <td>6.100000e+01</td>\n",
       "      <td>1.000000e+00</td>\n",
       "      <td>0.000000e+00</td>\n",
       "      <td>-7.122627e+01</td>\n",
       "      <td>1.000000e+00</td>\n",
       "      <td>0.000000e+00</td>\n",
       "      <td>-7.122627e+01</td>\n",
       "      <td>1.000000e+00</td>\n",
       "      <td>1.886000e+03</td>\n",
       "      <td>0.000000e+00</td>\n",
       "      <td>2.019000e+03</td>\n",
       "      <td>1.000000e+00</td>\n",
       "    </tr>\n",
       "    <tr>\n",
       "      <th>25%</th>\n",
       "      <td>4.410000e+02</td>\n",
       "      <td>5.500000e+01</td>\n",
       "      <td>4.234741e+01</td>\n",
       "      <td>-7.110549e+01</td>\n",
       "      <td>5.400000e+01</td>\n",
       "      <td>4.234741e+01</td>\n",
       "      <td>-7.110549e+01</td>\n",
       "      <td>2.920000e+03</td>\n",
       "      <td>1.977000e+03</td>\n",
       "      <td>1.000000e+00</td>\n",
       "      <td>2.019000e+03</td>\n",
       "      <td>5.000000e+00</td>\n",
       "    </tr>\n",
       "    <tr>\n",
       "      <th>50%</th>\n",
       "      <td>7.590000e+02</td>\n",
       "      <td>1.050000e+02</td>\n",
       "      <td>4.235722e+01</td>\n",
       "      <td>-7.108981e+01</td>\n",
       "      <td>1.050000e+02</td>\n",
       "      <td>4.235714e+01</td>\n",
       "      <td>-7.108822e+01</td>\n",
       "      <td>3.876000e+03</td>\n",
       "      <td>1.989000e+03</td>\n",
       "      <td>1.000000e+00</td>\n",
       "      <td>2.019000e+03</td>\n",
       "      <td>8.000000e+00</td>\n",
       "    </tr>\n",
       "    <tr>\n",
       "      <th>75%</th>\n",
       "      <td>1.298000e+03</td>\n",
       "      <td>2.140000e+02</td>\n",
       "      <td>4.236599e+01</td>\n",
       "      <td>-7.106894e+01</td>\n",
       "      <td>2.120000e+02</td>\n",
       "      <td>4.236576e+01</td>\n",
       "      <td>-7.106887e+01</td>\n",
       "      <td>4.996000e+03</td>\n",
       "      <td>1.994000e+03</td>\n",
       "      <td>1.000000e+00</td>\n",
       "      <td>2.020000e+03</td>\n",
       "      <td>9.000000e+00</td>\n",
       "    </tr>\n",
       "    <tr>\n",
       "      <th>max</th>\n",
       "      <td>4.256714e+07</td>\n",
       "      <td>4.920000e+02</td>\n",
       "      <td>4.241608e+01</td>\n",
       "      <td>0.000000e+00</td>\n",
       "      <td>4.920000e+02</td>\n",
       "      <td>4.241608e+01</td>\n",
       "      <td>0.000000e+00</td>\n",
       "      <td>6.716000e+03</td>\n",
       "      <td>2.004000e+03</td>\n",
       "      <td>2.000000e+00</td>\n",
       "      <td>2.020000e+03</td>\n",
       "      <td>1.200000e+01</td>\n",
       "    </tr>\n",
       "  </tbody>\n",
       "</table>\n",
       "</div>"
      ],
      "text/plain": [
       "       tripduration  start station id  start station latitude  \\\n",
       "count  4.522217e+06      4.522217e+06            4.522217e+06   \n",
       "mean   2.033293e+03      1.515240e+02            4.235678e+01   \n",
       "std    8.360404e+04      1.266333e+02            4.777192e-02   \n",
       "min    6.100000e+01      1.000000e+00            0.000000e+00   \n",
       "25%    4.410000e+02      5.500000e+01            4.234741e+01   \n",
       "50%    7.590000e+02      1.050000e+02            4.235722e+01   \n",
       "75%    1.298000e+03      2.140000e+02            4.236599e+01   \n",
       "max    4.256714e+07      4.920000e+02            4.241608e+01   \n",
       "\n",
       "       start station longitude  end station id  end station latitude  \\\n",
       "count             4.522217e+06    4.522217e+06          4.522217e+06   \n",
       "mean             -7.108822e+01    1.506847e+02          4.235667e+01   \n",
       "std               7.917777e-02    1.265186e+02          6.221080e-02   \n",
       "min              -7.122627e+01    1.000000e+00          0.000000e+00   \n",
       "25%              -7.110549e+01    5.400000e+01          4.234741e+01   \n",
       "50%              -7.108981e+01    1.050000e+02          4.235714e+01   \n",
       "75%              -7.106894e+01    2.120000e+02          4.236576e+01   \n",
       "max               0.000000e+00    4.920000e+02          4.241608e+01   \n",
       "\n",
       "       end station longitude        bikeid    birth year        gender  \\\n",
       "count           4.522217e+06  4.522217e+06  2.938747e+06  2.938747e+06   \n",
       "mean           -7.108785e+01  3.911434e+03  1.984802e+03  1.129286e+00   \n",
       "std             1.036350e-01  1.315869e+03  1.154080e+01  5.672495e-01   \n",
       "min            -7.122627e+01  1.000000e+00  1.886000e+03  0.000000e+00   \n",
       "25%            -7.110549e+01  2.920000e+03  1.977000e+03  1.000000e+00   \n",
       "50%            -7.108822e+01  3.876000e+03  1.989000e+03  1.000000e+00   \n",
       "75%            -7.106887e+01  4.996000e+03  1.994000e+03  1.000000e+00   \n",
       "max             0.000000e+00  6.716000e+03  2.004000e+03  2.000000e+00   \n",
       "\n",
       "               year         month  \n",
       "count  4.522217e+06  4.522217e+06  \n",
       "mean   2.019442e+03  7.132860e+00  \n",
       "std    4.966408e-01  2.812958e+00  \n",
       "min    2.019000e+03  1.000000e+00  \n",
       "25%    2.019000e+03  5.000000e+00  \n",
       "50%    2.019000e+03  8.000000e+00  \n",
       "75%    2.020000e+03  9.000000e+00  \n",
       "max    2.020000e+03  1.200000e+01  "
      ]
     },
     "execution_count": 12,
     "metadata": {},
     "output_type": "execute_result"
    }
   ],
   "source": [
    "bike_df.describe()"
   ]
  },
  {
   "cell_type": "code",
   "execution_count": 13,
   "id": "5948ea62",
   "metadata": {},
   "outputs": [],
   "source": [
    "df = bike_df.sample(frac=.07)"
   ]
  },
  {
   "cell_type": "code",
   "execution_count": 14,
   "id": "8092d769",
   "metadata": {},
   "outputs": [
    {
     "data": {
      "text/plain": [
       "(316555, 18)"
      ]
     },
     "execution_count": 14,
     "metadata": {},
     "output_type": "execute_result"
    }
   ],
   "source": [
    "df.shape"
   ]
  },
  {
   "cell_type": "markdown",
   "id": "34f0c1d6",
   "metadata": {},
   "source": [
    "### Data Cleaning"
   ]
  },
  {
   "cell_type": "code",
   "execution_count": null,
   "id": "064920fc",
   "metadata": {},
   "outputs": [],
   "source": []
  },
  {
   "cell_type": "code",
   "execution_count": null,
   "id": "79d1432a",
   "metadata": {},
   "outputs": [],
   "source": []
  },
  {
   "cell_type": "code",
   "execution_count": null,
   "id": "51b5fbf2",
   "metadata": {},
   "outputs": [],
   "source": []
  },
  {
   "cell_type": "code",
   "execution_count": null,
   "id": "2b6984b2",
   "metadata": {},
   "outputs": [],
   "source": []
  },
  {
   "cell_type": "markdown",
   "id": "9dd8b383",
   "metadata": {},
   "source": [
    "### EDA-Exploratory Data Analysis\n",
    "\n",
    "> Investigating more details about the data and relation to the subject problem to be solved"
   ]
  },
  {
   "cell_type": "code",
   "execution_count": 15,
   "id": "2321e7d7",
   "metadata": {},
   "outputs": [
    {
     "data": {
      "text/html": [
       "<div>\n",
       "<style scoped>\n",
       "    .dataframe tbody tr th:only-of-type {\n",
       "        vertical-align: middle;\n",
       "    }\n",
       "\n",
       "    .dataframe tbody tr th {\n",
       "        vertical-align: top;\n",
       "    }\n",
       "\n",
       "    .dataframe thead th {\n",
       "        text-align: right;\n",
       "    }\n",
       "</style>\n",
       "<table border=\"1\" class=\"dataframe\">\n",
       "  <thead>\n",
       "    <tr style=\"text-align: right;\">\n",
       "      <th></th>\n",
       "      <th>tripduration</th>\n",
       "      <th>starttime</th>\n",
       "      <th>stoptime</th>\n",
       "      <th>start station id</th>\n",
       "      <th>start station name</th>\n",
       "      <th>start station latitude</th>\n",
       "      <th>start station longitude</th>\n",
       "      <th>end station id</th>\n",
       "      <th>end station name</th>\n",
       "      <th>end station latitude</th>\n",
       "      <th>end station longitude</th>\n",
       "      <th>bikeid</th>\n",
       "      <th>usertype</th>\n",
       "      <th>birth year</th>\n",
       "      <th>gender</th>\n",
       "      <th>year</th>\n",
       "      <th>month</th>\n",
       "      <th>postal code</th>\n",
       "    </tr>\n",
       "  </thead>\n",
       "  <tbody>\n",
       "    <tr>\n",
       "      <th>145787</th>\n",
       "      <td>3496</td>\n",
       "      <td>2020-11-26 00:10:35.1070</td>\n",
       "      <td>2020-11-26 01:08:51.7680</td>\n",
       "      <td>93</td>\n",
       "      <td>JFK/UMass T Stop</td>\n",
       "      <td>42.320340</td>\n",
       "      <td>-71.051180</td>\n",
       "      <td>93</td>\n",
       "      <td>JFK/UMass T Stop</td>\n",
       "      <td>42.320340</td>\n",
       "      <td>-71.051180</td>\n",
       "      <td>2198</td>\n",
       "      <td>Customer</td>\n",
       "      <td>NaN</td>\n",
       "      <td>NaN</td>\n",
       "      <td>2020</td>\n",
       "      <td>11</td>\n",
       "      <td>02125</td>\n",
       "    </tr>\n",
       "    <tr>\n",
       "      <th>1523127</th>\n",
       "      <td>574</td>\n",
       "      <td>2019-07-24 17:28:16.5240</td>\n",
       "      <td>2019-07-24 17:37:50.7360</td>\n",
       "      <td>105</td>\n",
       "      <td>Lower Cambridgeport at Magazine St / Riverside Rd</td>\n",
       "      <td>42.357219</td>\n",
       "      <td>-71.113872</td>\n",
       "      <td>400</td>\n",
       "      <td>Lansdowne T Stop</td>\n",
       "      <td>42.347345</td>\n",
       "      <td>-71.100168</td>\n",
       "      <td>5037</td>\n",
       "      <td>Subscriber</td>\n",
       "      <td>1994.0</td>\n",
       "      <td>2.0</td>\n",
       "      <td>2019</td>\n",
       "      <td>7</td>\n",
       "      <td>NaN</td>\n",
       "    </tr>\n",
       "    <tr>\n",
       "      <th>1293307</th>\n",
       "      <td>811</td>\n",
       "      <td>2020-06-06 11:04:19.7240</td>\n",
       "      <td>2020-06-06 11:17:51.3460</td>\n",
       "      <td>233</td>\n",
       "      <td>St Mary's</td>\n",
       "      <td>42.346197</td>\n",
       "      <td>-71.107287</td>\n",
       "      <td>415</td>\n",
       "      <td>Stuart St at Berkeley St</td>\n",
       "      <td>42.349544</td>\n",
       "      <td>-71.072421</td>\n",
       "      <td>3571</td>\n",
       "      <td>Subscriber</td>\n",
       "      <td>NaN</td>\n",
       "      <td>NaN</td>\n",
       "      <td>2020</td>\n",
       "      <td>6</td>\n",
       "      <td>02116</td>\n",
       "    </tr>\n",
       "  </tbody>\n",
       "</table>\n",
       "</div>"
      ],
      "text/plain": [
       "         tripduration                 starttime                  stoptime  \\\n",
       "145787           3496  2020-11-26 00:10:35.1070  2020-11-26 01:08:51.7680   \n",
       "1523127           574  2019-07-24 17:28:16.5240  2019-07-24 17:37:50.7360   \n",
       "1293307           811  2020-06-06 11:04:19.7240  2020-06-06 11:17:51.3460   \n",
       "\n",
       "         start station id                                 start station name  \\\n",
       "145787                 93                                   JFK/UMass T Stop   \n",
       "1523127               105  Lower Cambridgeport at Magazine St / Riverside Rd   \n",
       "1293307               233                                          St Mary's   \n",
       "\n",
       "         start station latitude  start station longitude  end station id  \\\n",
       "145787                42.320340               -71.051180              93   \n",
       "1523127               42.357219               -71.113872             400   \n",
       "1293307               42.346197               -71.107287             415   \n",
       "\n",
       "                 end station name  end station latitude  \\\n",
       "145787           JFK/UMass T Stop             42.320340   \n",
       "1523127          Lansdowne T Stop             42.347345   \n",
       "1293307  Stuart St at Berkeley St             42.349544   \n",
       "\n",
       "         end station longitude  bikeid    usertype  birth year  gender  year  \\\n",
       "145787              -71.051180    2198    Customer         NaN     NaN  2020   \n",
       "1523127             -71.100168    5037  Subscriber      1994.0     2.0  2019   \n",
       "1293307             -71.072421    3571  Subscriber         NaN     NaN  2020   \n",
       "\n",
       "         month postal code  \n",
       "145787      11       02125  \n",
       "1523127      7         NaN  \n",
       "1293307      6       02116  "
      ]
     },
     "execution_count": 15,
     "metadata": {},
     "output_type": "execute_result"
    }
   ],
   "source": [
    "df.head(3)"
   ]
  },
  {
   "cell_type": "code",
   "execution_count": 16,
   "id": "44a8c676",
   "metadata": {},
   "outputs": [
    {
     "data": {
      "text/plain": [
       "Series([], dtype: int64)"
      ]
     },
     "execution_count": 16,
     "metadata": {},
     "output_type": "execute_result"
    }
   ],
   "source": [
    "df.value_counts()"
   ]
  },
  {
   "cell_type": "markdown",
   "id": "7adc015d",
   "metadata": {},
   "source": [
    "### Corellation Plot\n",
    "\n",
    "> The dataset has many columns, using the corellation matrix to identify the corelation between the columns"
   ]
  },
  {
   "cell_type": "code",
   "execution_count": 17,
   "id": "4d3537e4",
   "metadata": {},
   "outputs": [
    {
     "data": {
      "image/png": "[encoded data removed]",
      "text/plain": [
       "<Figure size 640x480 with 2 Axes>"
      ]
     },
     "metadata": {},
     "output_type": "display_data"
    }
   ],
   "source": [
    "corr_bike_df1 = df.corr()\n",
    "ax = sns.heatmap(\n",
    "    corr_bike_df1, \n",
    "    vmin=-1, vmax=1, center=0,\n",
    "    cmap=sns.diverging_palette(10, 400, n=500),\n",
    "    square=True\n",
    ")\n",
    "ax.set_xticklabels(\n",
    "    ax.get_xticklabels(),\n",
    "    rotation=45,\n",
    "    horizontalalignment='right'\n",
    ");"
   ]
  },
  {
   "cell_type": "markdown",
   "id": "dd3f897b",
   "metadata": {},
   "source": [
    "Summary\n",
    "\n",
    "- Red Shows no correlation at all\n",
    "- The Brown diagonal shows a high correlation\n",
    "\n",
    "- Correlation is identified in the following columns\n",
    "\n",
    "    1. Month and bikeid\n",
    "    2. Month and stat station id\n",
    "    3. Month and end station_id\n",
    "    4. birth year and gender\n",
    "   \n",
    "- Non Corellating columns are\n",
    "    1. Longitudes and latitudes of the stations"
   ]
  },
  {
   "cell_type": "markdown",
   "id": "0b0ad92a",
   "metadata": {},
   "source": [
    "#### Feature Independence Plots"
   ]
  },
  {
   "cell_type": "code",
   "execution_count": 18,
   "id": "42fca6a3",
   "metadata": {},
   "outputs": [
    {
     "data": {
      "text/html": [
       "<div>\n",
       "<style scoped>\n",
       "    .dataframe tbody tr th:only-of-type {\n",
       "        vertical-align: middle;\n",
       "    }\n",
       "\n",
       "    .dataframe tbody tr th {\n",
       "        vertical-align: top;\n",
       "    }\n",
       "\n",
       "    .dataframe thead th {\n",
       "        text-align: right;\n",
       "    }\n",
       "</style>\n",
       "<table border=\"1\" class=\"dataframe\">\n",
       "  <thead>\n",
       "    <tr style=\"text-align: right;\">\n",
       "      <th></th>\n",
       "      <th>tripduration</th>\n",
       "      <th>starttime</th>\n",
       "      <th>stoptime</th>\n",
       "      <th>start station id</th>\n",
       "      <th>start station name</th>\n",
       "      <th>start station latitude</th>\n",
       "      <th>start station longitude</th>\n",
       "      <th>end station id</th>\n",
       "      <th>end station name</th>\n",
       "      <th>end station latitude</th>\n",
       "      <th>end station longitude</th>\n",
       "      <th>bikeid</th>\n",
       "      <th>usertype</th>\n",
       "      <th>birth year</th>\n",
       "      <th>gender</th>\n",
       "      <th>year</th>\n",
       "      <th>month</th>\n",
       "      <th>postal code</th>\n",
       "    </tr>\n",
       "  </thead>\n",
       "  <tbody>\n",
       "    <tr>\n",
       "      <th>314147</th>\n",
       "      <td>467</td>\n",
       "      <td>2019-10-03 19:14:04.9310</td>\n",
       "      <td>2019-10-03 19:21:51.9740</td>\n",
       "      <td>176</td>\n",
       "      <td>Lesley University</td>\n",
       "      <td>42.386748</td>\n",
       "      <td>-71.119019</td>\n",
       "      <td>73</td>\n",
       "      <td>Harvard Square at Brattle St / Eliot St</td>\n",
       "      <td>42.373231</td>\n",
       "      <td>-71.120886</td>\n",
       "      <td>2636</td>\n",
       "      <td>Subscriber</td>\n",
       "      <td>1998.0</td>\n",
       "      <td>1.0</td>\n",
       "      <td>2019</td>\n",
       "      <td>10</td>\n",
       "      <td>NaN</td>\n",
       "    </tr>\n",
       "    <tr>\n",
       "      <th>1607433</th>\n",
       "      <td>655</td>\n",
       "      <td>2019-06-01 10:31:01.3850</td>\n",
       "      <td>2019-06-01 10:41:56.5030</td>\n",
       "      <td>24</td>\n",
       "      <td>Seaport Square - Seaport Blvd at Northern Ave</td>\n",
       "      <td>42.351482</td>\n",
       "      <td>-71.044361</td>\n",
       "      <td>150</td>\n",
       "      <td>State Street at Channel Center</td>\n",
       "      <td>42.344137</td>\n",
       "      <td>-71.052608</td>\n",
       "      <td>3367</td>\n",
       "      <td>Subscriber</td>\n",
       "      <td>1993.0</td>\n",
       "      <td>1.0</td>\n",
       "      <td>2019</td>\n",
       "      <td>6</td>\n",
       "      <td>NaN</td>\n",
       "    </tr>\n",
       "    <tr>\n",
       "      <th>1419140</th>\n",
       "      <td>1631</td>\n",
       "      <td>2019-07-13 22:16:23.7480</td>\n",
       "      <td>2019-07-13 22:43:35.3610</td>\n",
       "      <td>318</td>\n",
       "      <td>Ames St at Broadway</td>\n",
       "      <td>42.363693</td>\n",
       "      <td>-71.087567</td>\n",
       "      <td>60</td>\n",
       "      <td>Charles Circle - Charles St at Cambridge St</td>\n",
       "      <td>42.360793</td>\n",
       "      <td>-71.071190</td>\n",
       "      <td>2809</td>\n",
       "      <td>Customer</td>\n",
       "      <td>1969.0</td>\n",
       "      <td>0.0</td>\n",
       "      <td>2019</td>\n",
       "      <td>7</td>\n",
       "      <td>NaN</td>\n",
       "    </tr>\n",
       "  </tbody>\n",
       "</table>\n",
       "</div>"
      ],
      "text/plain": [
       "         tripduration                 starttime                  stoptime  \\\n",
       "314147            467  2019-10-03 19:14:04.9310  2019-10-03 19:21:51.9740   \n",
       "1607433           655  2019-06-01 10:31:01.3850  2019-06-01 10:41:56.5030   \n",
       "1419140          1631  2019-07-13 22:16:23.7480  2019-07-13 22:43:35.3610   \n",
       "\n",
       "         start station id                             start station name  \\\n",
       "314147                176                              Lesley University   \n",
       "1607433                24  Seaport Square - Seaport Blvd at Northern Ave   \n",
       "1419140               318                            Ames St at Broadway   \n",
       "\n",
       "         start station latitude  start station longitude  end station id  \\\n",
       "314147                42.386748               -71.119019              73   \n",
       "1607433               42.351482               -71.044361             150   \n",
       "1419140               42.363693               -71.087567              60   \n",
       "\n",
       "                                    end station name  end station latitude  \\\n",
       "314147       Harvard Square at Brattle St / Eliot St             42.373231   \n",
       "1607433               State Street at Channel Center             42.344137   \n",
       "1419140  Charles Circle - Charles St at Cambridge St             42.360793   \n",
       "\n",
       "         end station longitude  bikeid    usertype  birth year  gender  year  \\\n",
       "314147              -71.120886    2636  Subscriber      1998.0     1.0  2019   \n",
       "1607433             -71.052608    3367  Subscriber      1993.0     1.0  2019   \n",
       "1419140             -71.071190    2809    Customer      1969.0     0.0  2019   \n",
       "\n",
       "         month postal code  \n",
       "314147      10         NaN  \n",
       "1607433      6         NaN  \n",
       "1419140      7         NaN  "
      ]
     },
     "execution_count": 18,
     "metadata": {},
     "output_type": "execute_result"
    }
   ],
   "source": [
    "df.tail(3)"
   ]
  },
  {
   "cell_type": "markdown",
   "id": "169b641c",
   "metadata": {},
   "source": [
    "Analysis on the Number of trips per User Type"
   ]
  },
  {
   "cell_type": "code",
   "execution_count": 19,
   "id": "3a098b06",
   "metadata": {},
   "outputs": [
    {
     "data": {
      "text/plain": [
       "(316555, 18)"
      ]
     },
     "execution_count": 19,
     "metadata": {},
     "output_type": "execute_result"
    }
   ],
   "source": [
    "df.shape"
   ]
  },
  {
   "cell_type": "code",
   "execution_count": 20,
   "id": "406627eb",
   "metadata": {},
   "outputs": [],
   "source": [
    "bike_by_usertype = df.groupby(bike_df1['usertype']).sum()['tripduration']"
   ]
  },
  {
   "cell_type": "code",
   "execution_count": 21,
   "id": "707c2868",
   "metadata": {},
   "outputs": [
    {
     "data": {
      "text/plain": [
       "pandas.core.series.Series"
      ]
     },
     "execution_count": 21,
     "metadata": {},
     "output_type": "execute_result"
    }
   ],
   "source": [
    "type(bike_by_usertype)"
   ]
  },
  {
   "cell_type": "code",
   "execution_count": null,
   "id": "dd6ef1fe",
   "metadata": {},
   "outputs": [],
   "source": []
  },
  {
   "cell_type": "markdown",
   "id": "ec812c94",
   "metadata": {},
   "source": [
    "#### Station Trip duration and Usertype name "
   ]
  },
  {
   "cell_type": "code",
   "execution_count": 22,
   "id": "ec8f6cb3",
   "metadata": {},
   "outputs": [
    {
     "data": {
      "image/png": "[encoded data removed]",
      "text/plain": [
       "<Figure size 640x480 with 1 Axes>"
      ]
     },
     "metadata": {},
     "output_type": "display_data"
    }
   ],
   "source": [
    "df.plot(kind='scatter',x='usertype',y='tripduration',color='blue')\n",
    "plt.show()"
   ]
  },
  {
   "cell_type": "markdown",
   "id": "97f15584",
   "metadata": {},
   "source": [
    "#### Station Trip duration and end station name"
   ]
  },
  {
   "cell_type": "code",
   "execution_count": null,
   "id": "7772eddf",
   "metadata": {},
   "outputs": [],
   "source": []
  },
  {
   "cell_type": "markdown",
   "id": "2c6e488c",
   "metadata": {},
   "source": [
    "#### Station Trip duration and birth year"
   ]
  },
  {
   "cell_type": "code",
   "execution_count": 23,
   "id": "ce8692a5",
   "metadata": {},
   "outputs": [],
   "source": [
    "# df.plot(kind='bar',x='tripduration',y='birth year')"
   ]
  },
  {
   "cell_type": "code",
   "execution_count": null,
   "id": "e6e22cfa",
   "metadata": {},
   "outputs": [],
   "source": []
  },
  {
   "cell_type": "markdown",
   "id": "f43a4944",
   "metadata": {},
   "source": [
    "#### Trip duration by Gender"
   ]
  },
  {
   "cell_type": "code",
   "execution_count": null,
   "id": "1b9e943e",
   "metadata": {},
   "outputs": [],
   "source": []
  },
  {
   "cell_type": "code",
   "execution_count": 24,
   "id": "47aea76a",
   "metadata": {},
   "outputs": [
    {
     "data": {
      "text/html": [
       "<div>\n",
       "<style scoped>\n",
       "    .dataframe tbody tr th:only-of-type {\n",
       "        vertical-align: middle;\n",
       "    }\n",
       "\n",
       "    .dataframe tbody tr th {\n",
       "        vertical-align: top;\n",
       "    }\n",
       "\n",
       "    .dataframe thead th {\n",
       "        text-align: right;\n",
       "    }\n",
       "</style>\n",
       "<table border=\"1\" class=\"dataframe\">\n",
       "  <thead>\n",
       "    <tr style=\"text-align: right;\">\n",
       "      <th></th>\n",
       "      <th>tripduration</th>\n",
       "      <th>starttime</th>\n",
       "      <th>stoptime</th>\n",
       "      <th>start station id</th>\n",
       "      <th>start station name</th>\n",
       "      <th>start station latitude</th>\n",
       "      <th>start station longitude</th>\n",
       "      <th>end station id</th>\n",
       "      <th>end station name</th>\n",
       "      <th>end station latitude</th>\n",
       "      <th>end station longitude</th>\n",
       "      <th>bikeid</th>\n",
       "      <th>usertype</th>\n",
       "      <th>birth year</th>\n",
       "      <th>gender</th>\n",
       "      <th>year</th>\n",
       "      <th>month</th>\n",
       "    </tr>\n",
       "  </thead>\n",
       "  <tbody>\n",
       "    <tr>\n",
       "      <th>0</th>\n",
       "      <td>790</td>\n",
       "      <td>2019-12-01 00:01:25.3240</td>\n",
       "      <td>2019-12-01 00:14:35.3350</td>\n",
       "      <td>370</td>\n",
       "      <td>Dartmouth St at Newbury St</td>\n",
       "      <td>42.350961</td>\n",
       "      <td>-71.077828</td>\n",
       "      <td>33</td>\n",
       "      <td>Kenmore Square</td>\n",
       "      <td>42.348706</td>\n",
       "      <td>-71.097009</td>\n",
       "      <td>5133</td>\n",
       "      <td>Subscriber</td>\n",
       "      <td>1950</td>\n",
       "      <td>1</td>\n",
       "      <td>2019</td>\n",
       "      <td>12</td>\n",
       "    </tr>\n",
       "    <tr>\n",
       "      <th>1</th>\n",
       "      <td>166</td>\n",
       "      <td>2019-12-01 00:05:42.8610</td>\n",
       "      <td>2019-12-01 00:08:29.3830</td>\n",
       "      <td>80</td>\n",
       "      <td>MIT Stata Center at Vassar St / Main St</td>\n",
       "      <td>42.362131</td>\n",
       "      <td>-71.091156</td>\n",
       "      <td>67</td>\n",
       "      <td>MIT at Mass Ave / Amherst St</td>\n",
       "      <td>42.358100</td>\n",
       "      <td>-71.093198</td>\n",
       "      <td>2653</td>\n",
       "      <td>Subscriber</td>\n",
       "      <td>1993</td>\n",
       "      <td>1</td>\n",
       "      <td>2019</td>\n",
       "      <td>12</td>\n",
       "    </tr>\n",
       "    <tr>\n",
       "      <th>2</th>\n",
       "      <td>323</td>\n",
       "      <td>2019-12-01 00:08:28.5560</td>\n",
       "      <td>2019-12-01 00:13:52.4340</td>\n",
       "      <td>381</td>\n",
       "      <td>Inman Square at Springfield St.</td>\n",
       "      <td>42.374384</td>\n",
       "      <td>-71.100157</td>\n",
       "      <td>221</td>\n",
       "      <td>Verizon Innovation Hub 10 Ware Street</td>\n",
       "      <td>42.372509</td>\n",
       "      <td>-71.113054</td>\n",
       "      <td>4875</td>\n",
       "      <td>Subscriber</td>\n",
       "      <td>1992</td>\n",
       "      <td>1</td>\n",
       "      <td>2019</td>\n",
       "      <td>12</td>\n",
       "    </tr>\n",
       "  </tbody>\n",
       "</table>\n",
       "</div>"
      ],
      "text/plain": [
       "   tripduration                 starttime                  stoptime  \\\n",
       "0           790  2019-12-01 00:01:25.3240  2019-12-01 00:14:35.3350   \n",
       "1           166  2019-12-01 00:05:42.8610  2019-12-01 00:08:29.3830   \n",
       "2           323  2019-12-01 00:08:28.5560  2019-12-01 00:13:52.4340   \n",
       "\n",
       "   start station id                       start station name  \\\n",
       "0               370               Dartmouth St at Newbury St   \n",
       "1                80  MIT Stata Center at Vassar St / Main St   \n",
       "2               381          Inman Square at Springfield St.   \n",
       "\n",
       "   start station latitude  start station longitude  end station id  \\\n",
       "0               42.350961               -71.077828              33   \n",
       "1               42.362131               -71.091156              67   \n",
       "2               42.374384               -71.100157             221   \n",
       "\n",
       "                        end station name  end station latitude  \\\n",
       "0                         Kenmore Square             42.348706   \n",
       "1           MIT at Mass Ave / Amherst St             42.358100   \n",
       "2  Verizon Innovation Hub 10 Ware Street             42.372509   \n",
       "\n",
       "   end station longitude  bikeid    usertype  birth year  gender  year  month  \n",
       "0             -71.097009    5133  Subscriber        1950       1  2019     12  \n",
       "1             -71.093198    2653  Subscriber        1993       1  2019     12  \n",
       "2             -71.113054    4875  Subscriber        1992       1  2019     12  "
      ]
     },
     "execution_count": 24,
     "metadata": {},
     "output_type": "execute_result"
    }
   ],
   "source": [
    "bike_df1.head(3)"
   ]
  },
  {
   "cell_type": "markdown",
   "id": "fb152401",
   "metadata": {},
   "source": [
    "#### Number of trips by month"
   ]
  },
  {
   "cell_type": "code",
   "execution_count": 25,
   "id": "ede6ab67",
   "metadata": {},
   "outputs": [
    {
     "data": {
      "text/html": [
       "<div>\n",
       "<style scoped>\n",
       "    .dataframe tbody tr th:only-of-type {\n",
       "        vertical-align: middle;\n",
       "    }\n",
       "\n",
       "    .dataframe tbody tr th {\n",
       "        vertical-align: top;\n",
       "    }\n",
       "\n",
       "    .dataframe thead th {\n",
       "        text-align: right;\n",
       "    }\n",
       "</style>\n",
       "<table border=\"1\" class=\"dataframe\">\n",
       "  <thead>\n",
       "    <tr style=\"text-align: right;\">\n",
       "      <th></th>\n",
       "      <th>tripduration</th>\n",
       "      <th>starttime</th>\n",
       "      <th>stoptime</th>\n",
       "      <th>start station id</th>\n",
       "      <th>start station name</th>\n",
       "      <th>start station latitude</th>\n",
       "      <th>start station longitude</th>\n",
       "      <th>end station id</th>\n",
       "      <th>end station name</th>\n",
       "      <th>end station latitude</th>\n",
       "      <th>end station longitude</th>\n",
       "      <th>bikeid</th>\n",
       "      <th>usertype</th>\n",
       "      <th>birth year</th>\n",
       "      <th>gender</th>\n",
       "      <th>year</th>\n",
       "      <th>month</th>\n",
       "      <th>postal code</th>\n",
       "    </tr>\n",
       "  </thead>\n",
       "  <tbody>\n",
       "    <tr>\n",
       "      <th>145787</th>\n",
       "      <td>3496</td>\n",
       "      <td>2020-11-26 00:10:35.1070</td>\n",
       "      <td>2020-11-26 01:08:51.7680</td>\n",
       "      <td>93</td>\n",
       "      <td>JFK/UMass T Stop</td>\n",
       "      <td>42.320340</td>\n",
       "      <td>-71.051180</td>\n",
       "      <td>93</td>\n",
       "      <td>JFK/UMass T Stop</td>\n",
       "      <td>42.320340</td>\n",
       "      <td>-71.051180</td>\n",
       "      <td>2198</td>\n",
       "      <td>Customer</td>\n",
       "      <td>NaN</td>\n",
       "      <td>NaN</td>\n",
       "      <td>2020</td>\n",
       "      <td>11</td>\n",
       "      <td>02125</td>\n",
       "    </tr>\n",
       "    <tr>\n",
       "      <th>1523127</th>\n",
       "      <td>574</td>\n",
       "      <td>2019-07-24 17:28:16.5240</td>\n",
       "      <td>2019-07-24 17:37:50.7360</td>\n",
       "      <td>105</td>\n",
       "      <td>Lower Cambridgeport at Magazine St / Riverside Rd</td>\n",
       "      <td>42.357219</td>\n",
       "      <td>-71.113872</td>\n",
       "      <td>400</td>\n",
       "      <td>Lansdowne T Stop</td>\n",
       "      <td>42.347345</td>\n",
       "      <td>-71.100168</td>\n",
       "      <td>5037</td>\n",
       "      <td>Subscriber</td>\n",
       "      <td>1994.0</td>\n",
       "      <td>2.0</td>\n",
       "      <td>2019</td>\n",
       "      <td>7</td>\n",
       "      <td>NaN</td>\n",
       "    </tr>\n",
       "    <tr>\n",
       "      <th>1293307</th>\n",
       "      <td>811</td>\n",
       "      <td>2020-06-06 11:04:19.7240</td>\n",
       "      <td>2020-06-06 11:17:51.3460</td>\n",
       "      <td>233</td>\n",
       "      <td>St Mary's</td>\n",
       "      <td>42.346197</td>\n",
       "      <td>-71.107287</td>\n",
       "      <td>415</td>\n",
       "      <td>Stuart St at Berkeley St</td>\n",
       "      <td>42.349544</td>\n",
       "      <td>-71.072421</td>\n",
       "      <td>3571</td>\n",
       "      <td>Subscriber</td>\n",
       "      <td>NaN</td>\n",
       "      <td>NaN</td>\n",
       "      <td>2020</td>\n",
       "      <td>6</td>\n",
       "      <td>02116</td>\n",
       "    </tr>\n",
       "  </tbody>\n",
       "</table>\n",
       "</div>"
      ],
      "text/plain": [
       "         tripduration                 starttime                  stoptime  \\\n",
       "145787           3496  2020-11-26 00:10:35.1070  2020-11-26 01:08:51.7680   \n",
       "1523127           574  2019-07-24 17:28:16.5240  2019-07-24 17:37:50.7360   \n",
       "1293307           811  2020-06-06 11:04:19.7240  2020-06-06 11:17:51.3460   \n",
       "\n",
       "         start station id                                 start station name  \\\n",
       "145787                 93                                   JFK/UMass T Stop   \n",
       "1523127               105  Lower Cambridgeport at Magazine St / Riverside Rd   \n",
       "1293307               233                                          St Mary's   \n",
       "\n",
       "         start station latitude  start station longitude  end station id  \\\n",
       "145787                42.320340               -71.051180              93   \n",
       "1523127               42.357219               -71.113872             400   \n",
       "1293307               42.346197               -71.107287             415   \n",
       "\n",
       "                 end station name  end station latitude  \\\n",
       "145787           JFK/UMass T Stop             42.320340   \n",
       "1523127          Lansdowne T Stop             42.347345   \n",
       "1293307  Stuart St at Berkeley St             42.349544   \n",
       "\n",
       "         end station longitude  bikeid    usertype  birth year  gender  year  \\\n",
       "145787              -71.051180    2198    Customer         NaN     NaN  2020   \n",
       "1523127             -71.100168    5037  Subscriber      1994.0     2.0  2019   \n",
       "1293307             -71.072421    3571  Subscriber         NaN     NaN  2020   \n",
       "\n",
       "         month postal code  \n",
       "145787      11       02125  \n",
       "1523127      7         NaN  \n",
       "1293307      6       02116  "
      ]
     },
     "execution_count": 25,
     "metadata": {},
     "output_type": "execute_result"
    }
   ],
   "source": [
    "df.head(3)"
   ]
  },
  {
   "cell_type": "markdown",
   "id": "6719f967",
   "metadata": {},
   "source": [
    "#### Trip duration distribution by Month"
   ]
  },
  {
   "cell_type": "code",
   "execution_count": 26,
   "id": "81edbe70",
   "metadata": {},
   "outputs": [
    {
     "data": {
      "image/png": "[encoded data removed]",
      "text/plain": [
       "<Figure size 640x480 with 1 Axes>"
      ]
     },
     "metadata": {},
     "output_type": "display_data"
    }
   ],
   "source": [
    "df.groupby('month')['tripduration'].nunique().plot(kind='bar')\n",
    "plt.show()"
   ]
  },
  {
   "cell_type": "code",
   "execution_count": null,
   "id": "555da515",
   "metadata": {},
   "outputs": [],
   "source": []
  },
  {
   "cell_type": "code",
   "execution_count": 34,
   "id": "eefc655b",
   "metadata": {},
   "outputs": [
    {
     "data": {
      "image/png": "[encoded data removed]",
      "text/plain": [
       "<Figure size 640x480 with 1 Axes>"
      ]
     },
     "metadata": {},
     "output_type": "display_data"
    }
   ],
   "source": [
    "df.groupby('starttime')['tripduration'].nunique().plot(kind='line')\n",
    "plt.show()"
   ]
  },
  {
   "cell_type": "code",
   "execution_count": null,
   "id": "f8269f57",
   "metadata": {},
   "outputs": [],
   "source": []
  }
 ],
 "metadata": {
  "kernelspec": {
   "display_name": "Python 3 (ipykernel)",
   "language": "python",
   "name": "python3"
  },
  "language_info": {
   "codemirror_mode": {
    "name": "ipython",
    "version": 3
   },
   "file_extension": ".py",
   "mimetype": "text/x-python",
   "name": "python",
   "nbconvert_exporter": "python",
   "pygments_lexer": "ipython3",
   "version": "3.9.12"
  }
 },
 "nbformat": 4,
 "nbformat_minor": 5
}
